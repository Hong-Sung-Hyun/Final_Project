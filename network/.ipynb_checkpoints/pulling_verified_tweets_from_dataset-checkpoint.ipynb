{
 "cells": [
  {
   "cell_type": "code",
   "execution_count": 3,
   "metadata": {},
   "outputs": [],
   "source": [
    "import pandas as pd"
   ]
  },
  {
   "cell_type": "code",
   "execution_count": 4,
   "metadata": {},
   "outputs": [],
   "source": [
    "nodes = pd.read_csv('twitternetworknodes.csv')"
   ]
  },
  {
   "cell_type": "code",
   "execution_count": 6,
   "metadata": {},
   "outputs": [],
   "source": [
    "verified_original = pd.read_json('/Users/briansrebrenik/DSCourseMaterials/projects/finalProject/twitterData/TU_verified.ndjson', lines=True)"
   ]
  },
  {
   "cell_type": "code",
   "execution_count": 10,
   "metadata": {},
   "outputs": [
    {
     "data": {
      "text/plain": [
       "Index(['contributors_enabled', 'created_at', 'default_profile',\n",
       "       'default_profile_image', 'description', 'entities', 'favourites_count',\n",
       "       'follow_request_sent', 'followers_count', 'following', 'friends_count',\n",
       "       'geo_enabled', 'has_extended_profile', 'id', 'id_str',\n",
       "       'is_translation_enabled', 'is_translator', 'lang', 'listed_count',\n",
       "       'location', 'name', 'notifications', 'profile_background_color',\n",
       "       'profile_background_image_url', 'profile_background_image_url_https',\n",
       "       'profile_background_tile', 'profile_banner_url', 'profile_image_url',\n",
       "       'profile_image_url_https', 'profile_link_color',\n",
       "       'profile_sidebar_border_color', 'profile_sidebar_fill_color',\n",
       "       'profile_text_color', 'profile_use_background_image', 'protected',\n",
       "       'retrieved_on', 'statuses_count', 'time_zone', 'translator_type', 'url',\n",
       "       'utc_offset', 'verified', 'withheld_in_countries'],\n",
       "      dtype='object')"
      ]
     },
     "execution_count": 10,
     "metadata": {},
     "output_type": "execute_result"
    }
   ],
   "source": [
    "verified_original.columns"
   ]
  },
  {
   "cell_type": "code",
   "execution_count": 11,
   "metadata": {},
   "outputs": [],
   "source": [
    "verified_original.set_index('id', inplace=True)"
   ]
  },
  {
   "cell_type": "code",
   "execution_count": 12,
   "metadata": {},
   "outputs": [],
   "source": [
    "combined = nodes.set_index('user_id').join(verified_original)"
   ]
  },
  {
   "cell_type": "code",
   "execution_count": 14,
   "metadata": {},
   "outputs": [
    {
     "data": {
      "text/plain": [
       "262803"
      ]
     },
     "execution_count": 14,
     "metadata": {},
     "output_type": "execute_result"
    }
   ],
   "source": [
    "len(combined)"
   ]
  },
  {
   "cell_type": "code",
   "execution_count": 19,
   "metadata": {},
   "outputs": [
    {
     "data": {
      "text/plain": [
       "Index(['Id', 'Label', 'timeset', 'listed', 'friends', 'followers', 'language',\n",
       "       'modularity_class', 'contributors_enabled', 'created_at',\n",
       "       'default_profile', 'default_profile_image', 'description', 'entities',\n",
       "       'favourites_count', 'follow_request_sent', 'followers_count',\n",
       "       'following', 'friends_count', 'geo_enabled', 'has_extended_profile',\n",
       "       'id_str', 'is_translation_enabled', 'is_translator', 'lang',\n",
       "       'listed_count', 'location', 'name', 'notifications',\n",
       "       'profile_background_color', 'profile_background_image_url',\n",
       "       'profile_background_image_url_https', 'profile_background_tile',\n",
       "       'profile_banner_url', 'profile_image_url', 'profile_image_url_https',\n",
       "       'profile_link_color', 'profile_sidebar_border_color',\n",
       "       'profile_sidebar_fill_color', 'profile_text_color',\n",
       "       'profile_use_background_image', 'protected', 'retrieved_on',\n",
       "       'statuses_count', 'time_zone', 'translator_type', 'url', 'utc_offset',\n",
       "       'verified', 'withheld_in_countries'],\n",
       "      dtype='object')"
      ]
     },
     "execution_count": 19,
     "metadata": {},
     "output_type": "execute_result"
    }
   ],
   "source": [
    "combined.columns"
   ]
  },
  {
   "cell_type": "code",
   "execution_count": 15,
   "metadata": {},
   "outputs": [
    {
     "data": {
      "text/html": [
       "<div>\n",
       "<style scoped>\n",
       "    .dataframe tbody tr th:only-of-type {\n",
       "        vertical-align: middle;\n",
       "    }\n",
       "\n",
       "    .dataframe tbody tr th {\n",
       "        vertical-align: top;\n",
       "    }\n",
       "\n",
       "    .dataframe thead th {\n",
       "        text-align: right;\n",
       "    }\n",
       "</style>\n",
       "<table border=\"1\" class=\"dataframe\">\n",
       "  <thead>\n",
       "    <tr style=\"text-align: right;\">\n",
       "      <th></th>\n",
       "      <th>Id</th>\n",
       "      <th>Label</th>\n",
       "      <th>timeset</th>\n",
       "      <th>listed</th>\n",
       "      <th>friends</th>\n",
       "      <th>followers</th>\n",
       "      <th>language</th>\n",
       "      <th>modularity_class</th>\n",
       "      <th>contributors_enabled</th>\n",
       "      <th>created_at</th>\n",
       "      <th>...</th>\n",
       "      <th>profile_use_background_image</th>\n",
       "      <th>protected</th>\n",
       "      <th>retrieved_on</th>\n",
       "      <th>statuses_count</th>\n",
       "      <th>time_zone</th>\n",
       "      <th>translator_type</th>\n",
       "      <th>url</th>\n",
       "      <th>utc_offset</th>\n",
       "      <th>verified</th>\n",
       "      <th>withheld_in_countries</th>\n",
       "    </tr>\n",
       "    <tr>\n",
       "      <th>user_id</th>\n",
       "      <th></th>\n",
       "      <th></th>\n",
       "      <th></th>\n",
       "      <th></th>\n",
       "      <th></th>\n",
       "      <th></th>\n",
       "      <th></th>\n",
       "      <th></th>\n",
       "      <th></th>\n",
       "      <th></th>\n",
       "      <th></th>\n",
       "      <th></th>\n",
       "      <th></th>\n",
       "      <th></th>\n",
       "      <th></th>\n",
       "      <th></th>\n",
       "      <th></th>\n",
       "      <th></th>\n",
       "      <th></th>\n",
       "      <th></th>\n",
       "      <th></th>\n",
       "    </tr>\n",
       "  </thead>\n",
       "  <tbody>\n",
       "    <tr>\n",
       "      <th>15736267</th>\n",
       "      <td>28835</td>\n",
       "      <td>LilianPacce</td>\n",
       "      <td>NaN</td>\n",
       "      <td>1793</td>\n",
       "      <td>658</td>\n",
       "      <td>639276</td>\n",
       "      <td>en</td>\n",
       "      <td>587</td>\n",
       "      <td>False</td>\n",
       "      <td>2008-08-05 14:06:35</td>\n",
       "      <td>...</td>\n",
       "      <td>False</td>\n",
       "      <td>False</td>\n",
       "      <td>1.529388e+09</td>\n",
       "      <td>40540.0</td>\n",
       "      <td>NaN</td>\n",
       "      <td>none</td>\n",
       "      <td>http://t.co/v44qPcZZnz</td>\n",
       "      <td>NaN</td>\n",
       "      <td>True</td>\n",
       "      <td>NaN</td>\n",
       "    </tr>\n",
       "    <tr>\n",
       "      <th>313525999</th>\n",
       "      <td>204136</td>\n",
       "      <td>FenitN</td>\n",
       "      <td>NaN</td>\n",
       "      <td>162</td>\n",
       "      <td>1198</td>\n",
       "      <td>3160</td>\n",
       "      <td>en</td>\n",
       "      <td>2102</td>\n",
       "      <td>False</td>\n",
       "      <td>2011-06-08 19:57:08</td>\n",
       "      <td>...</td>\n",
       "      <td>False</td>\n",
       "      <td>False</td>\n",
       "      <td>1.529387e+09</td>\n",
       "      <td>10859.0</td>\n",
       "      <td>NaN</td>\n",
       "      <td>none</td>\n",
       "      <td>https://t.co/c8LNamHxLp</td>\n",
       "      <td>NaN</td>\n",
       "      <td>True</td>\n",
       "      <td>NaN</td>\n",
       "    </tr>\n",
       "    <tr>\n",
       "      <th>34177979</th>\n",
       "      <td>249077</td>\n",
       "      <td>eringilfoy</td>\n",
       "      <td>NaN</td>\n",
       "      <td>98</td>\n",
       "      <td>362</td>\n",
       "      <td>78126</td>\n",
       "      <td>en</td>\n",
       "      <td>887</td>\n",
       "      <td>False</td>\n",
       "      <td>2009-04-22 04:09:53</td>\n",
       "      <td>...</td>\n",
       "      <td>True</td>\n",
       "      <td>False</td>\n",
       "      <td>1.529386e+09</td>\n",
       "      <td>5329.0</td>\n",
       "      <td>NaN</td>\n",
       "      <td>none</td>\n",
       "      <td>https://t.co/AvxYBz13qS</td>\n",
       "      <td>NaN</td>\n",
       "      <td>True</td>\n",
       "      <td>NaN</td>\n",
       "    </tr>\n",
       "    <tr>\n",
       "      <th>1774511</th>\n",
       "      <td>111815</td>\n",
       "      <td>stuartdredge</td>\n",
       "      <td>NaN</td>\n",
       "      <td>1119</td>\n",
       "      <td>1295</td>\n",
       "      <td>22945</td>\n",
       "      <td>en</td>\n",
       "      <td>438</td>\n",
       "      <td>False</td>\n",
       "      <td>2007-03-21 17:42:25</td>\n",
       "      <td>...</td>\n",
       "      <td>True</td>\n",
       "      <td>False</td>\n",
       "      <td>1.529388e+09</td>\n",
       "      <td>70322.0</td>\n",
       "      <td>NaN</td>\n",
       "      <td>none</td>\n",
       "      <td>https://t.co/SrR9EhvTO4</td>\n",
       "      <td>NaN</td>\n",
       "      <td>True</td>\n",
       "      <td>NaN</td>\n",
       "    </tr>\n",
       "    <tr>\n",
       "      <th>17284200</th>\n",
       "      <td>36410</td>\n",
       "      <td>hmvtweets</td>\n",
       "      <td>NaN</td>\n",
       "      <td>843</td>\n",
       "      <td>2115</td>\n",
       "      <td>124810</td>\n",
       "      <td>en</td>\n",
       "      <td>545</td>\n",
       "      <td>False</td>\n",
       "      <td>2008-11-10 09:41:22</td>\n",
       "      <td>...</td>\n",
       "      <td>False</td>\n",
       "      <td>False</td>\n",
       "      <td>1.529388e+09</td>\n",
       "      <td>59602.0</td>\n",
       "      <td>NaN</td>\n",
       "      <td>none</td>\n",
       "      <td>https://t.co/yEAVnZrvqQ</td>\n",
       "      <td>NaN</td>\n",
       "      <td>True</td>\n",
       "      <td>NaN</td>\n",
       "    </tr>\n",
       "  </tbody>\n",
       "</table>\n",
       "<p>5 rows × 50 columns</p>\n",
       "</div>"
      ],
      "text/plain": [
       "               Id         Label  timeset  listed  friends  followers language  \\\n",
       "user_id                                                                         \n",
       "15736267    28835   LilianPacce      NaN    1793      658     639276       en   \n",
       "313525999  204136        FenitN      NaN     162     1198       3160       en   \n",
       "34177979   249077    eringilfoy      NaN      98      362      78126       en   \n",
       "1774511    111815  stuartdredge      NaN    1119     1295      22945       en   \n",
       "17284200    36410     hmvtweets      NaN     843     2115     124810       en   \n",
       "\n",
       "           modularity_class contributors_enabled          created_at  \\\n",
       "user_id                                                                \n",
       "15736267                587                False 2008-08-05 14:06:35   \n",
       "313525999              2102                False 2011-06-08 19:57:08   \n",
       "34177979                887                False 2009-04-22 04:09:53   \n",
       "1774511                 438                False 2007-03-21 17:42:25   \n",
       "17284200                545                False 2008-11-10 09:41:22   \n",
       "\n",
       "                   ...          profile_use_background_image protected  \\\n",
       "user_id            ...                                                   \n",
       "15736267           ...                                 False     False   \n",
       "313525999          ...                                 False     False   \n",
       "34177979           ...                                  True     False   \n",
       "1774511            ...                                  True     False   \n",
       "17284200           ...                                 False     False   \n",
       "\n",
       "           retrieved_on statuses_count  time_zone  translator_type  \\\n",
       "user_id                                                              \n",
       "15736267   1.529388e+09        40540.0        NaN             none   \n",
       "313525999  1.529387e+09        10859.0        NaN             none   \n",
       "34177979   1.529386e+09         5329.0        NaN             none   \n",
       "1774511    1.529388e+09        70322.0        NaN             none   \n",
       "17284200   1.529388e+09        59602.0        NaN             none   \n",
       "\n",
       "                               url  utc_offset  verified withheld_in_countries  \n",
       "user_id                                                                         \n",
       "15736267    http://t.co/v44qPcZZnz         NaN      True                   NaN  \n",
       "313525999  https://t.co/c8LNamHxLp         NaN      True                   NaN  \n",
       "34177979   https://t.co/AvxYBz13qS         NaN      True                   NaN  \n",
       "1774511    https://t.co/SrR9EhvTO4         NaN      True                   NaN  \n",
       "17284200   https://t.co/yEAVnZrvqQ         NaN      True                   NaN  \n",
       "\n",
       "[5 rows x 50 columns]"
      ]
     },
     "execution_count": 15,
     "metadata": {},
     "output_type": "execute_result"
    }
   ],
   "source": [
    "combined.head()"
   ]
  },
  {
   "cell_type": "code",
   "execution_count": 18,
   "metadata": {},
   "outputs": [],
   "source": [
    "df = pd.read_csv('/Users/briansrebrenik/DSCourseMaterials/projects/finalProject/twitterData/tweet_df_final.csv')"
   ]
  },
  {
   "cell_type": "code",
   "execution_count": 32,
   "metadata": {},
   "outputs": [
    {
     "data": {
      "text/plain": [
       "61836077"
      ]
     },
     "execution_count": 32,
     "metadata": {},
     "output_type": "execute_result"
    }
   ],
   "source": [
    "len(df)"
   ]
  },
  {
   "cell_type": "code",
   "execution_count": 23,
   "metadata": {},
   "outputs": [],
   "source": [
    "verified_user_names = list(combined.Label)"
   ]
  },
  {
   "cell_type": "code",
   "execution_count": 25,
   "metadata": {},
   "outputs": [],
   "source": [
    "verified_user_names = set(verified_user_names)"
   ]
  },
  {
   "cell_type": "code",
   "execution_count": 26,
   "metadata": {},
   "outputs": [],
   "source": [
    "authors = df.author"
   ]
  },
  {
   "cell_type": "code",
   "execution_count": 27,
   "metadata": {},
   "outputs": [
    {
     "name": "stderr",
     "output_type": "stream",
     "text": [
      "100%|██████████| 61836077/61836077 [34:29<00:00, 29876.75it/s]  \n"
     ]
    }
   ],
   "source": [
    "from tqdm import tqdm\n",
    "verified_tweets = []\n",
    "for i in tqdm(range(len(authors))):\n",
    "    if authors[i] in verified_user_names:\n",
    "        verified_tweets.append(i)\n",
    "    else:\n",
    "        pass"
   ]
  },
  {
   "cell_type": "code",
   "execution_count": 28,
   "metadata": {},
   "outputs": [],
   "source": [
    "verified_tweet_set = set(verified_tweets)"
   ]
  },
  {
   "cell_type": "code",
   "execution_count": 29,
   "metadata": {},
   "outputs": [
    {
     "data": {
      "text/plain": [
       "1172338"
      ]
     },
     "execution_count": 29,
     "metadata": {},
     "output_type": "execute_result"
    }
   ],
   "source": [
    "len(verified_tweet_set)"
   ]
  },
  {
   "cell_type": "code",
   "execution_count": 31,
   "metadata": {},
   "outputs": [],
   "source": [
    "df.drop(columns=['Unnamed: 0', 'Unnamed: 0.1'], inplace=True)"
   ]
  },
  {
   "cell_type": "code",
   "execution_count": 33,
   "metadata": {},
   "outputs": [
    {
     "name": "stderr",
     "output_type": "stream",
     "text": [
      "100%|██████████| 61836077/61836077 [06:15<00:00, 164578.05it/s] \n"
     ]
    }
   ],
   "source": [
    "new_rows= []\n",
    "for i in tqdm(range(len(df))):\n",
    "    if i in verified_tweet_set:\n",
    "        new_rows.append(df.iloc[i])"
   ]
  },
  {
   "cell_type": "code",
   "execution_count": 34,
   "metadata": {},
   "outputs": [],
   "source": [
    "verified_tweet_df = pd.DataFrame(new_rows)"
   ]
  },
  {
   "cell_type": "code",
   "execution_count": 36,
   "metadata": {},
   "outputs": [
    {
     "data": {
      "text/plain": [
       "1172338"
      ]
     },
     "execution_count": 36,
     "metadata": {},
     "output_type": "execute_result"
    }
   ],
   "source": [
    "len(verified_tweet_df)"
   ]
  },
  {
   "cell_type": "code",
   "execution_count": 37,
   "metadata": {},
   "outputs": [],
   "source": [
    "#verified_tweet_df.to_csv('/Users/briansrebrenik/DSCourseMaterials/projects/finalProject/verified_tweet_df')"
   ]
  },
  {
   "cell_type": "code",
   "execution_count": 38,
   "metadata": {},
   "outputs": [
    {
     "data": {
      "text/html": [
       "<div>\n",
       "<style scoped>\n",
       "    .dataframe tbody tr th:only-of-type {\n",
       "        vertical-align: middle;\n",
       "    }\n",
       "\n",
       "    .dataframe tbody tr th {\n",
       "        vertical-align: top;\n",
       "    }\n",
       "\n",
       "    .dataframe thead th {\n",
       "        text-align: right;\n",
       "    }\n",
       "</style>\n",
       "<table border=\"1\" class=\"dataframe\">\n",
       "  <thead>\n",
       "    <tr style=\"text-align: right;\">\n",
       "      <th></th>\n",
       "      <th>author</th>\n",
       "      <th>date</th>\n",
       "      <th>topic_id</th>\n",
       "      <th>tweet_id</th>\n",
       "    </tr>\n",
       "  </thead>\n",
       "  <tbody>\n",
       "    <tr>\n",
       "      <th>10</th>\n",
       "      <td>SilverbirdTV</td>\n",
       "      <td>2014-10-16 14:39:56</td>\n",
       "      <td>0</td>\n",
       "      <td>522758848529321984</td>\n",
       "    </tr>\n",
       "    <tr>\n",
       "      <th>25</th>\n",
       "      <td>BT_Vancouver</td>\n",
       "      <td>2014-10-16 14:37:38</td>\n",
       "      <td>0</td>\n",
       "      <td>522758268205432832</td>\n",
       "    </tr>\n",
       "    <tr>\n",
       "      <th>31</th>\n",
       "      <td>HelloCanada</td>\n",
       "      <td>2014-10-16 14:37:13</td>\n",
       "      <td>0</td>\n",
       "      <td>522758164400599040</td>\n",
       "    </tr>\n",
       "    <tr>\n",
       "      <th>37</th>\n",
       "      <td>Brimastroianni</td>\n",
       "      <td>2014-10-16 14:36:16</td>\n",
       "      <td>0</td>\n",
       "      <td>522757924234338306</td>\n",
       "    </tr>\n",
       "    <tr>\n",
       "      <th>46</th>\n",
       "      <td>NiraArora</td>\n",
       "      <td>2014-10-16 14:34:33</td>\n",
       "      <td>0</td>\n",
       "      <td>522757491743285248</td>\n",
       "    </tr>\n",
       "  </tbody>\n",
       "</table>\n",
       "</div>"
      ],
      "text/plain": [
       "            author                 date  topic_id            tweet_id\n",
       "10    SilverbirdTV  2014-10-16 14:39:56         0  522758848529321984\n",
       "25    BT_Vancouver  2014-10-16 14:37:38         0  522758268205432832\n",
       "31     HelloCanada  2014-10-16 14:37:13         0  522758164400599040\n",
       "37  Brimastroianni  2014-10-16 14:36:16         0  522757924234338306\n",
       "46       NiraArora  2014-10-16 14:34:33         0  522757491743285248"
      ]
     },
     "execution_count": 38,
     "metadata": {},
     "output_type": "execute_result"
    }
   ],
   "source": [
    "verified_tweet_df.head()"
   ]
  },
  {
   "cell_type": "code",
   "execution_count": null,
   "metadata": {},
   "outputs": [],
   "source": []
  }
 ],
 "metadata": {
  "kernelspec": {
   "display_name": "Python 3",
   "language": "python",
   "name": "python3"
  },
  "language_info": {
   "codemirror_mode": {
    "name": "ipython",
    "version": 3
   },
   "file_extension": ".py",
   "mimetype": "text/x-python",
   "name": "python",
   "nbconvert_exporter": "python",
   "pygments_lexer": "ipython3",
   "version": "3.7.1"
  }
 },
 "nbformat": 4,
 "nbformat_minor": 2
}
