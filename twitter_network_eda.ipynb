{
 "cells": [
  {
   "cell_type": "code",
   "execution_count": 1,
   "metadata": {},
   "outputs": [],
   "source": [
    "import pandas as pd\n",
    "import numpy as np\n",
    "import networkx as nx\n",
    "import matplotlib.pyplot as plt\n",
    "import seaborn as sns\n",
    "from sklearn.metrics import accuracy_score, f1_score, classification_report, calinski_harabaz_score\n",
    "from sklearn.metrics import precision_score, recall_score, confusion_matrix\n",
    "from sklearn.model_selection import train_test_split\n",
    "from sklearn.model_selection import GridSearchCV\n",
    "from sklearn.linear_model import LogisticRegression\n",
    "from sklearn.pipeline import Pipeline\n",
    "from sklearn.decomposition import TruncatedSVD\n",
    "from sklearn import svm\n",
    "from sklearn.ensemble import RandomForestClassifier\n",
    "from sklearn.preprocessing import StandardScaler\n",
    "import scipy as sp\n",
    "import itertools\n",
    "from nltk import word_tokenize\n",
    "import warnings\n",
    "import xgboost as xgb\n",
    "warnings.filterwarnings('ignore')\n",
    "from sklearn.cluster import KMeans\n",
    "%matplotlib inline"
   ]
  },
  {
   "cell_type": "code",
   "execution_count": 8,
   "metadata": {},
   "outputs": [],
   "source": [
    "G= nx.read_gexf('/storage/twitter_network.gexf')"
   ]
  },
  {
   "cell_type": "code",
   "execution_count": 9,
   "metadata": {},
   "outputs": [],
   "source": [
    "nodes_in_credbank = []\n",
    "for node in G.nodes():\n",
    "    if G.node[node]['more_than_5_percent_fake'] != \"b'notweets'\":\n",
    "        nodes_in_credbank.append(node)"
   ]
  },
  {
   "cell_type": "code",
   "execution_count": 10,
   "metadata": {},
   "outputs": [],
   "source": [
    "sub_graph = G.subgraph(nodes_in_credbank)"
   ]
  },
  {
   "cell_type": "code",
   "execution_count": 11,
   "metadata": {},
   "outputs": [],
   "source": [
    "real_sources = []\n",
    "fake_sources = []\n",
    "for node in sub_graph.nodes():\n",
    "    if sub_graph.node[node]['more_than_5_percent_fake'] == \"b'True'\":\n",
    "        fake_sources.append(node)\n",
    "    else:\n",
    "        real_sources.append(node)"
   ]
  },
  {
   "cell_type": "markdown",
   "metadata": {},
   "source": [
    "### Modularity Community Detection on Verified Users > 1m Followers\n",
    "Modularity maximization begins with each node in its own community and joins the pair of communities that most increases modularity until no such pair exists. Networks with high modularity have dense connections between the nodes within modules but sparse connections between nodes in different modules.\n"
   ]
  },
  {
   "cell_type": "markdown",
   "metadata": {},
   "source": [
    "![title](/storage/screenshot_074045.png)"
   ]
  },
  {
   "cell_type": "markdown",
   "metadata": {},
   "source": [
    "![tile](/storage/communities-size-distribution.png)"
   ]
  },
  {
   "cell_type": "markdown",
   "metadata": {},
   "source": [
    "![title](/storage/final.png)"
   ]
  },
  {
   "cell_type": "markdown",
   "metadata": {},
   "source": [
    "#### Full Network Graph (CredBank Sources Only)\n",
    "![title](/storage/full_graph2.png)"
   ]
  },
  {
   "cell_type": "markdown",
   "metadata": {},
   "source": [
    "#### Network Graph with Just \"Fake Sources\"\n",
    "![title](/storage/fake_only.png)"
   ]
  },
  {
   "cell_type": "markdown",
   "metadata": {},
   "source": [
    "### Network EDA"
   ]
  },
  {
   "cell_type": "markdown",
   "metadata": {},
   "source": [
    "#### Eigenvector Centrality\n",
    "eigenvector centrality is a measure of the influence of a node in a network. Relative scores are assigned to all nodes in the network based on the concept that connections to high-scoring nodes contribute more to the score of the node in question than equal connections to low-scoring nodes. A high eigenvector score means that a node is connected to many nodes who themselves have high scores."
   ]
  },
  {
   "cell_type": "code",
   "execution_count": 83,
   "metadata": {},
   "outputs": [],
   "source": [
    "stats_from_gephi = pd.read_csv('/storage/louvain.csv')"
   ]
  },
  {
   "cell_type": "code",
   "execution_count": 7,
   "metadata": {},
   "outputs": [
    {
     "name": "stderr",
     "output_type": "stream",
     "text": [
      "/opt/conda/lib/python3.6/site-packages/pandas/core/generic.py:4405: SettingWithCopyWarning: \n",
      "A value is trying to be set on a copy of a slice from a DataFrame.\n",
      "Try using .loc[row_indexer,col_indexer] = value instead\n",
      "\n",
      "See the caveats in the documentation: http://pandas.pydata.org/pandas-docs/stable/indexing.html#indexing-view-versus-copy\n",
      "  self[name] = value\n"
     ]
    }
   ],
   "source": [
    "ev_df = stats_from_gephi[['Id', 'eigencentrality']]\n",
    "ev_df.Id = ev_df.Id.apply(lambda x: str(x))\n",
    "ev_df.set_index('Id', inplace=True)"
   ]
  },
  {
   "cell_type": "code",
   "execution_count": 8,
   "metadata": {},
   "outputs": [],
   "source": [
    "real_ev = []\n",
    "fake_ev = []\n",
    "for x in real_sources:\n",
    "    real_ev.append(ev_df.eigencentrality.loc[x])\n",
    "for x in fake_sources:\n",
    "    fake_ev.append(ev_df.eigencentrality.loc[x])"
   ]
  },
  {
   "cell_type": "code",
   "execution_count": 9,
   "metadata": {},
   "outputs": [
    {
     "data": {
      "image/png": "[encoded data removed]",
      "text/plain": [
       "<Figure size 432x288 with 1 Axes>"
      ]
     },
     "metadata": {
      "needs_background": "light"
     },
     "output_type": "display_data"
    }
   ],
   "source": [
    "sns.distplot(fake_ev)\n",
    "plt.title('Eigenvector Centrality for \"Fake\" Sources')\n",
    "plt.show()"
   ]
  },
  {
   "cell_type": "code",
   "execution_count": 10,
   "metadata": {},
   "outputs": [
    {
     "data": {
      "image/png": "[encoded data removed]",
      "text/plain": [
       "<Figure size 432x288 with 1 Axes>"
      ]
     },
     "metadata": {
      "needs_background": "light"
     },
     "output_type": "display_data"
    }
   ],
   "source": [
    "sns.distplot(real_ev)\n",
    "plt.title('Eigenvector Centrality for \"Real\" Sources')\n",
    "plt.show()"
   ]
  },
  {
   "cell_type": "markdown",
   "metadata": {},
   "source": [
    "#### Page Rank\n",
    "PageRank is widely recognized as a way of detecting influential nodes in a graph. It is different to other centrality algorithms because the influence of a node depends on the influence of its neighbours."
   ]
  },
  {
   "cell_type": "code",
   "execution_count": 11,
   "metadata": {},
   "outputs": [],
   "source": [
    "pg_rnk = nx.algorithms.pagerank(sub_graph)"
   ]
  },
  {
   "cell_type": "code",
   "execution_count": 12,
   "metadata": {},
   "outputs": [],
   "source": [
    "pg_real = []\n",
    "pg_fk = []\n",
    "for x in real_sources:\n",
    "    pg_real.append(pg_rnk[x])\n",
    "for x in fake_sources:\n",
    "    pg_fk.append(pg_rnk[x])"
   ]
  },
  {
   "cell_type": "code",
   "execution_count": 13,
   "metadata": {},
   "outputs": [
    {
     "data": {
      "image/png": "[encoded data removed]",
      "text/plain": [
       "<Figure size 864x360 with 1 Axes>"
      ]
     },
     "metadata": {
      "needs_background": "light"
     },
     "output_type": "display_data"
    }
   ],
   "source": [
    "plt.figure(figsize=(12,5))\n",
    "plt.boxplot(pg_fk, showfliers=False, vert=False)\n",
    "plt.title(\"Page Rank for Fake Sources\")\n",
    "plt.show()"
   ]
  },
  {
   "cell_type": "code",
   "execution_count": 14,
   "metadata": {},
   "outputs": [
    {
     "data": {
      "image/png": "[encoded data removed]",
      "text/plain": [
       "<Figure size 864x360 with 1 Axes>"
      ]
     },
     "metadata": {
      "needs_background": "light"
     },
     "output_type": "display_data"
    }
   ],
   "source": [
    "plt.figure(figsize=(12,5))\n",
    "plt.boxplot(pg_real, showfliers=False, vert=False)\n",
    "plt.title(\"Page Rank for Real Sources\")\n",
    "plt.show()"
   ]
  },
  {
   "cell_type": "markdown",
   "metadata": {},
   "source": [
    "## Clustering"
   ]
  },
  {
   "cell_type": "markdown",
   "metadata": {},
   "source": [
    "### Louvain Community Detection\n",
    "The Louvain method of community detection is an algorithm for detecting communities in networks. It maximizes a modularity score for each community, where the modularity quantifies the quality of an assignment of nodes to communities by evaluating how much more densely connected the nodes within a community are compared to how connected they would be in a random network."
   ]
  },
  {
   "cell_type": "markdown",
   "metadata": {},
   "source": [
    "![title](/storage/louvain_full.png)"
   ]
  },
  {
   "cell_type": "markdown",
   "metadata": {},
   "source": [
    "![title](/storage/louvain_partition.png)"
   ]
  },
  {
   "cell_type": "code",
   "execution_count": 3,
   "metadata": {},
   "outputs": [
    {
     "data": {
      "text/html": [
       "<div>\n",
       "<style scoped>\n",
       "    .dataframe tbody tr th:only-of-type {\n",
       "        vertical-align: middle;\n",
       "    }\n",
       "\n",
       "    .dataframe tbody tr th {\n",
       "        vertical-align: top;\n",
       "    }\n",
       "\n",
       "    .dataframe thead th {\n",
       "        text-align: right;\n",
       "    }\n",
       "</style>\n",
       "<table border=\"1\" class=\"dataframe\">\n",
       "  <thead>\n",
       "    <tr style=\"text-align: right;\">\n",
       "      <th></th>\n",
       "      <th>Cluster</th>\n",
       "    </tr>\n",
       "    <tr>\n",
       "      <th>Id</th>\n",
       "      <th></th>\n",
       "    </tr>\n",
       "  </thead>\n",
       "  <tbody>\n",
       "    <tr>\n",
       "      <th>28835</th>\n",
       "      <td>0</td>\n",
       "    </tr>\n",
       "    <tr>\n",
       "      <th>204136</th>\n",
       "      <td>0</td>\n",
       "    </tr>\n",
       "    <tr>\n",
       "      <th>111815</th>\n",
       "      <td>171</td>\n",
       "    </tr>\n",
       "    <tr>\n",
       "      <th>36410</th>\n",
       "      <td>27</td>\n",
       "    </tr>\n",
       "    <tr>\n",
       "      <th>106949</th>\n",
       "      <td>0</td>\n",
       "    </tr>\n",
       "  </tbody>\n",
       "</table>\n",
       "</div>"
      ],
      "text/plain": [
       "        Cluster\n",
       "Id             \n",
       "28835         0\n",
       "204136        0\n",
       "111815      171\n",
       "36410        27\n",
       "106949        0"
      ]
     },
     "execution_count": 3,
     "metadata": {},
     "output_type": "execute_result"
    }
   ],
   "source": [
    "louvain_df = stats_from_gephi[['Id', 'Cluster']]\n",
    "louvain_df.Id = louvain_df.Id.apply(lambda x: str(x))\n",
    "louvain_df.set_index('Id', inplace=True)\n",
    "louvain_df.head()"
   ]
  },
  {
   "cell_type": "code",
   "execution_count": 21,
   "metadata": {},
   "outputs": [
    {
     "name": "stderr",
     "output_type": "stream",
     "text": [
      "/opt/conda/lib/python3.6/site-packages/ipykernel_launcher.py:1: SettingWithCopyWarning: \n",
      "A value is trying to be set on a copy of a slice from a DataFrame.\n",
      "Try using .loc[row_indexer,col_indexer] = value instead\n",
      "\n",
      "See the caveats in the documentation: http://pandas.pydata.org/pandas-docs/stable/indexing.html#indexing-view-versus-copy\n",
      "  \"\"\"Entry point for launching an IPython kernel.\n"
     ]
    }
   ],
   "source": [
    "louvain_df['Fake'] = louvain_df.Id.apply(lambda x: x in fake_sources)"
   ]
  },
  {
   "cell_type": "code",
   "execution_count": 23,
   "metadata": {},
   "outputs": [],
   "source": [
    "real_clusters = set(list(louvain_df[louvain_df['Fake'] == False].Cluster))\n",
    "fake_clusters = set(list(louvain_df[louvain_df['Fake'] == True].Cluster))\n",
    "both = real_clusters.intersection(fake_clusters)"
   ]
  },
  {
   "cell_type": "code",
   "execution_count": 24,
   "metadata": {},
   "outputs": [],
   "source": [
    "total_eliminated = 0\n",
    "for x in list(louvain_df[louvain_df['Fake'] == False].Cluster):\n",
    "    if x not in both:\n",
    "        total_eliminated +=1"
   ]
  },
  {
   "cell_type": "code",
   "execution_count": 25,
   "metadata": {},
   "outputs": [
    {
     "name": "stdout",
     "output_type": "stream",
     "text": [
      "Total real nodes eliminated through clustering: 25838\n"
     ]
    }
   ],
   "source": [
    "print(f\"Total real nodes eliminated through clustering: {total_eliminated}\")"
   ]
  },
  {
   "cell_type": "markdown",
   "metadata": {},
   "source": [
    "## Node2Vec\n",
    "The node2vec framework learns low-dimensional representations for nodes in a graph by optimizing a neighborhood preserving objective. The objective is flexible, and the algorithm accomodates for various definitions of network neighborhoods by simulating biased random walks. Specifically, it provides a way of balancing the exploration-exploitation tradeoff that in turn leads to representations obeying a spectrum of equivalences from homophily to structural equivalence."
   ]
  },
  {
   "cell_type": "code",
   "execution_count": 52,
   "metadata": {},
   "outputs": [],
   "source": [
    "from node2vec import Node2Vec"
   ]
  },
  {
   "cell_type": "code",
   "execution_count": 68,
   "metadata": {},
   "outputs": [
    {
     "name": "stderr",
     "output_type": "stream",
     "text": [
      "Computing transition probabilities: 100%|██████████| 69025/69025 [03:13<00:00, 357.00it/s]\n",
      "Generating walks (CPU: 1): 100%|██████████| 200/200 [02:57<00:00,  1.34it/s]\n"
     ]
    }
   ],
   "source": [
    "node2vec = Node2Vec(sub_graph, dimensions=128, walk_length=30, num_walks=200, workers=1, p=.5, q=3)"
   ]
  },
  {
   "cell_type": "code",
   "execution_count": 69,
   "metadata": {},
   "outputs": [],
   "source": [
    "vmodel = node2vec.fit()"
   ]
  },
  {
   "cell_type": "code",
   "execution_count": 70,
   "metadata": {},
   "outputs": [],
   "source": [
    "vmodel.wv.save_word2vec_format('/storage/node2.emb')"
   ]
  },
  {
   "cell_type": "code",
   "execution_count": 71,
   "metadata": {},
   "outputs": [
    {
     "data": {
      "text/html": [
       "<div>\n",
       "<style scoped>\n",
       "    .dataframe tbody tr th:only-of-type {\n",
       "        vertical-align: middle;\n",
       "    }\n",
       "\n",
       "    .dataframe tbody tr th {\n",
       "        vertical-align: top;\n",
       "    }\n",
       "\n",
       "    .dataframe thead th {\n",
       "        text-align: right;\n",
       "    }\n",
       "</style>\n",
       "<table border=\"1\" class=\"dataframe\">\n",
       "  <thead>\n",
       "    <tr style=\"text-align: right;\">\n",
       "      <th></th>\n",
       "      <th>1</th>\n",
       "      <th>2</th>\n",
       "      <th>3</th>\n",
       "      <th>4</th>\n",
       "      <th>5</th>\n",
       "      <th>6</th>\n",
       "      <th>7</th>\n",
       "      <th>8</th>\n",
       "      <th>9</th>\n",
       "      <th>10</th>\n",
       "      <th>...</th>\n",
       "      <th>119</th>\n",
       "      <th>120</th>\n",
       "      <th>121</th>\n",
       "      <th>122</th>\n",
       "      <th>123</th>\n",
       "      <th>124</th>\n",
       "      <th>125</th>\n",
       "      <th>126</th>\n",
       "      <th>127</th>\n",
       "      <th>128</th>\n",
       "    </tr>\n",
       "    <tr>\n",
       "      <th>node</th>\n",
       "      <th></th>\n",
       "      <th></th>\n",
       "      <th></th>\n",
       "      <th></th>\n",
       "      <th></th>\n",
       "      <th></th>\n",
       "      <th></th>\n",
       "      <th></th>\n",
       "      <th></th>\n",
       "      <th></th>\n",
       "      <th></th>\n",
       "      <th></th>\n",
       "      <th></th>\n",
       "      <th></th>\n",
       "      <th></th>\n",
       "      <th></th>\n",
       "      <th></th>\n",
       "      <th></th>\n",
       "      <th></th>\n",
       "      <th></th>\n",
       "      <th></th>\n",
       "    </tr>\n",
       "  </thead>\n",
       "  <tbody>\n",
       "    <tr>\n",
       "      <th>34</th>\n",
       "      <td>1.215360</td>\n",
       "      <td>0.590668</td>\n",
       "      <td>1.206217</td>\n",
       "      <td>0.815922</td>\n",
       "      <td>0.474462</td>\n",
       "      <td>-0.184177</td>\n",
       "      <td>-1.022098</td>\n",
       "      <td>0.046622</td>\n",
       "      <td>0.482609</td>\n",
       "      <td>0.775657</td>\n",
       "      <td>...</td>\n",
       "      <td>-0.691533</td>\n",
       "      <td>-0.624864</td>\n",
       "      <td>0.367276</td>\n",
       "      <td>-0.179574</td>\n",
       "      <td>-0.417812</td>\n",
       "      <td>-2.118079</td>\n",
       "      <td>0.572015</td>\n",
       "      <td>-1.895707</td>\n",
       "      <td>0.440647</td>\n",
       "      <td>-1.368375</td>\n",
       "    </tr>\n",
       "    <tr>\n",
       "      <th>47066</th>\n",
       "      <td>0.644473</td>\n",
       "      <td>0.134478</td>\n",
       "      <td>1.372650</td>\n",
       "      <td>0.565117</td>\n",
       "      <td>0.662336</td>\n",
       "      <td>0.190529</td>\n",
       "      <td>-0.986900</td>\n",
       "      <td>0.083679</td>\n",
       "      <td>0.505446</td>\n",
       "      <td>1.097492</td>\n",
       "      <td>...</td>\n",
       "      <td>-0.573227</td>\n",
       "      <td>0.005819</td>\n",
       "      <td>0.573356</td>\n",
       "      <td>0.010229</td>\n",
       "      <td>-0.498130</td>\n",
       "      <td>-1.716094</td>\n",
       "      <td>1.317506</td>\n",
       "      <td>-1.257594</td>\n",
       "      <td>0.891697</td>\n",
       "      <td>-0.840043</td>\n",
       "    </tr>\n",
       "    <tr>\n",
       "      <th>935</th>\n",
       "      <td>1.025927</td>\n",
       "      <td>0.489599</td>\n",
       "      <td>1.326657</td>\n",
       "      <td>0.735876</td>\n",
       "      <td>0.547768</td>\n",
       "      <td>-0.009837</td>\n",
       "      <td>-0.993691</td>\n",
       "      <td>0.451789</td>\n",
       "      <td>0.431461</td>\n",
       "      <td>0.718527</td>\n",
       "      <td>...</td>\n",
       "      <td>-0.812079</td>\n",
       "      <td>0.002490</td>\n",
       "      <td>0.557994</td>\n",
       "      <td>0.410985</td>\n",
       "      <td>-0.405380</td>\n",
       "      <td>-1.914024</td>\n",
       "      <td>0.909353</td>\n",
       "      <td>-1.462142</td>\n",
       "      <td>0.676795</td>\n",
       "      <td>-1.100042</td>\n",
       "    </tr>\n",
       "    <tr>\n",
       "      <th>2839</th>\n",
       "      <td>-0.039276</td>\n",
       "      <td>-1.585982</td>\n",
       "      <td>2.685040</td>\n",
       "      <td>2.921607</td>\n",
       "      <td>-0.387245</td>\n",
       "      <td>0.233172</td>\n",
       "      <td>-0.201593</td>\n",
       "      <td>-0.933081</td>\n",
       "      <td>-0.486840</td>\n",
       "      <td>2.291283</td>\n",
       "      <td>...</td>\n",
       "      <td>-2.844961</td>\n",
       "      <td>0.864968</td>\n",
       "      <td>0.400546</td>\n",
       "      <td>0.538342</td>\n",
       "      <td>0.417391</td>\n",
       "      <td>0.317565</td>\n",
       "      <td>0.875755</td>\n",
       "      <td>-3.282280</td>\n",
       "      <td>-0.698688</td>\n",
       "      <td>0.563220</td>\n",
       "    </tr>\n",
       "    <tr>\n",
       "      <th>2949</th>\n",
       "      <td>1.050536</td>\n",
       "      <td>-1.051138</td>\n",
       "      <td>0.737621</td>\n",
       "      <td>1.115862</td>\n",
       "      <td>0.915033</td>\n",
       "      <td>1.424241</td>\n",
       "      <td>0.604096</td>\n",
       "      <td>2.238234</td>\n",
       "      <td>1.334923</td>\n",
       "      <td>0.457917</td>\n",
       "      <td>...</td>\n",
       "      <td>0.627566</td>\n",
       "      <td>-0.319493</td>\n",
       "      <td>1.937815</td>\n",
       "      <td>2.045055</td>\n",
       "      <td>1.151095</td>\n",
       "      <td>-2.276983</td>\n",
       "      <td>2.361725</td>\n",
       "      <td>-2.611036</td>\n",
       "      <td>0.388171</td>\n",
       "      <td>-0.119152</td>\n",
       "    </tr>\n",
       "  </tbody>\n",
       "</table>\n",
       "<p>5 rows × 128 columns</p>\n",
       "</div>"
      ],
      "text/plain": [
       "            1         2         3         4         5         6         7    \\\n",
       "node                                                                          \n",
       "34     1.215360  0.590668  1.206217  0.815922  0.474462 -0.184177 -1.022098   \n",
       "47066  0.644473  0.134478  1.372650  0.565117  0.662336  0.190529 -0.986900   \n",
       "935    1.025927  0.489599  1.326657  0.735876  0.547768 -0.009837 -0.993691   \n",
       "2839  -0.039276 -1.585982  2.685040  2.921607 -0.387245  0.233172 -0.201593   \n",
       "2949   1.050536 -1.051138  0.737621  1.115862  0.915033  1.424241  0.604096   \n",
       "\n",
       "            8         9         10     ...          119       120       121  \\\n",
       "node                                   ...                                    \n",
       "34     0.046622  0.482609  0.775657    ...    -0.691533 -0.624864  0.367276   \n",
       "47066  0.083679  0.505446  1.097492    ...    -0.573227  0.005819  0.573356   \n",
       "935    0.451789  0.431461  0.718527    ...    -0.812079  0.002490  0.557994   \n",
       "2839  -0.933081 -0.486840  2.291283    ...    -2.844961  0.864968  0.400546   \n",
       "2949   2.238234  1.334923  0.457917    ...     0.627566 -0.319493  1.937815   \n",
       "\n",
       "            122       123       124       125       126       127       128  \n",
       "node                                                                         \n",
       "34    -0.179574 -0.417812 -2.118079  0.572015 -1.895707  0.440647 -1.368375  \n",
       "47066  0.010229 -0.498130 -1.716094  1.317506 -1.257594  0.891697 -0.840043  \n",
       "935    0.410985 -0.405380 -1.914024  0.909353 -1.462142  0.676795 -1.100042  \n",
       "2839   0.538342  0.417391  0.317565  0.875755 -3.282280 -0.698688  0.563220  \n",
       "2949   2.045055  1.151095 -2.276983  2.361725 -2.611036  0.388171 -0.119152  \n",
       "\n",
       "[5 rows x 128 columns]"
      ]
     },
     "execution_count": 71,
     "metadata": {},
     "output_type": "execute_result"
    }
   ],
   "source": [
    "emb_df = pd.read_csv('/storage/node2.emb', sep=' ', skiprows=[0], header=None)\n",
    "emb_df[0] = emb_df[0].apply(lambda x: str(x))\n",
    "emb_df.set_index(0, inplace=True)\n",
    "emb_df.index.name = 'node'\n",
    "emb_df.head()"
   ]
  },
  {
   "cell_type": "markdown",
   "metadata": {},
   "source": [
    "### Using Profile Descriptions for Neural Net Word Embeddings\n",
    "Embedding Layer inside of a Deep Neural Network to compute  word embedding vectors. Word Embeddings are a type of vectorization strategy that computes word vectors from a text corpus by training a neural network, which results in a high-dimensional embedding space, where each word is in the corpus is a unique vector in that space. In this embedding space, the position of the vector relative to the other vectors captures semantic meaning. "
   ]
  },
  {
   "cell_type": "code",
   "execution_count": 3,
   "metadata": {},
   "outputs": [
    {
     "name": "stderr",
     "output_type": "stream",
     "text": [
      "Using TensorFlow backend.\n"
     ]
    }
   ],
   "source": [
    "from keras.preprocessing.sequence import pad_sequences\n",
    "from keras.layers import Input, Dense, LSTM, Embedding, GRU\n",
    "from keras.layers import Dropout, Activation, Bidirectional, GlobalMaxPool1D\n",
    "from keras.models import Model\n",
    "from keras import initializers, regularizers, constraints, optimizers, layers\n",
    "from keras.preprocessing import text, sequence"
   ]
  },
  {
   "cell_type": "code",
   "execution_count": 90,
   "metadata": {},
   "outputs": [],
   "source": [
    "descriptions_df = stats_from_gephi[['Id', '7']]\n",
    "descriptions_df.Id = descriptions_df.Id.apply(lambda x: str(x))\n",
    "descriptions_df.set_index('Id', inplace=True)\n",
    "nodes = list(descriptions_df.index)\n",
    "nodes = [str(node) for node in nodes]\n",
    "target = []\n",
    "real_set = set(real_sources)\n",
    "for node in nodes:\n",
    "    if node in real_set:\n",
    "        target.append(0)\n",
    "    else:\n",
    "        target.append(1)"
   ]
  },
  {
   "cell_type": "code",
   "execution_count": 92,
   "metadata": {},
   "outputs": [
    {
     "data": {
      "text/html": [
       "<div>\n",
       "<style scoped>\n",
       "    .dataframe tbody tr th:only-of-type {\n",
       "        vertical-align: middle;\n",
       "    }\n",
       "\n",
       "    .dataframe tbody tr th {\n",
       "        vertical-align: top;\n",
       "    }\n",
       "\n",
       "    .dataframe thead th {\n",
       "        text-align: right;\n",
       "    }\n",
       "</style>\n",
       "<table border=\"1\" class=\"dataframe\">\n",
       "  <thead>\n",
       "    <tr style=\"text-align: right;\">\n",
       "      <th></th>\n",
       "      <th>description</th>\n",
       "      <th>target</th>\n",
       "    </tr>\n",
       "    <tr>\n",
       "      <th>Id</th>\n",
       "      <th></th>\n",
       "      <th></th>\n",
       "    </tr>\n",
       "  </thead>\n",
       "  <tbody>\n",
       "    <tr>\n",
       "      <th>28835</th>\n",
       "      <td>b'Editora de moda, apresentadora, jornalista e...</td>\n",
       "      <td>0</td>\n",
       "    </tr>\n",
       "    <tr>\n",
       "      <th>204136</th>\n",
       "      <td>b'I cover D.C. government for @WashingtonPost....</td>\n",
       "      <td>0</td>\n",
       "    </tr>\n",
       "    <tr>\n",
       "      <th>111815</th>\n",
       "      <td>b'Scribbler: Music Ally / Observer / The Week ...</td>\n",
       "      <td>0</td>\n",
       "    </tr>\n",
       "    <tr>\n",
       "      <th>36410</th>\n",
       "      <td>b'home of entertainment since 1921. Rewards: @...</td>\n",
       "      <td>0</td>\n",
       "    </tr>\n",
       "    <tr>\n",
       "      <th>106949</th>\n",
       "      <td>b'News Anchor &amp; Presenter BBC World News - \"Ta...</td>\n",
       "      <td>0</td>\n",
       "    </tr>\n",
       "  </tbody>\n",
       "</table>\n",
       "</div>"
      ],
      "text/plain": [
       "                                              description  target\n",
       "Id                                                               \n",
       "28835   b'Editora de moda, apresentadora, jornalista e...       0\n",
       "204136  b'I cover D.C. government for @WashingtonPost....       0\n",
       "111815  b'Scribbler: Music Ally / Observer / The Week ...       0\n",
       "36410   b'home of entertainment since 1921. Rewards: @...       0\n",
       "106949  b'News Anchor & Presenter BBC World News - \"Ta...       0"
      ]
     },
     "execution_count": 92,
     "metadata": {},
     "output_type": "execute_result"
    }
   ],
   "source": [
    "descriptions_df['target'] = target\n",
    "descriptions_df.rename(columns={'7': 'description'}, inplace=True)\n"
   ]
  },
  {
   "cell_type": "code",
   "execution_count": 93,
   "metadata": {},
   "outputs": [],
   "source": [
    "descriptions_df.description = descriptions_df.description.apply(lambda x: x.replace(\"b'\", \"\"))"
   ]
  },
  {
   "cell_type": "code",
   "execution_count": 95,
   "metadata": {},
   "outputs": [],
   "source": [
    "descriptions_df.description = descriptions_df.description.apply(lambda x: x.replace('b\"', \"\"))"
   ]
  },
  {
   "cell_type": "code",
   "execution_count": 141,
   "metadata": {},
   "outputs": [],
   "source": [
    "target = descriptions_df.target\n",
    "data = descriptions_df['description'].map(word_tokenize).values\n"
   ]
  },
  {
   "cell_type": "code",
   "execution_count": 146,
   "metadata": {},
   "outputs": [],
   "source": [
    "y = pd.get_dummies(target).values\n",
    "tokenizer = text.Tokenizer(num_words=50000)\n",
    "tokenizer.fit_on_texts(list(descriptions_df.description))\n",
    "list_tokenized_headlines = tokenizer.texts_to_sequences(descriptions_df.description)\n",
    "X_t = sequence.pad_sequences(list_tokenized_headlines, maxlen=50)"
   ]
  },
  {
   "cell_type": "code",
   "execution_count": 4,
   "metadata": {},
   "outputs": [],
   "source": [
    "embedding_size = 128\n",
    "input_ = Input(shape=(20,))\n",
    "x = Embedding(50000, embedding_size)(input_)\n",
    "x = LSTM(25, return_sequences=True)(x)\n",
    "x = GlobalMaxPool1D()(x)\n",
    "x = Dropout(0.5)(x)\n",
    "x = Dense(50, activation='relu')(x)\n",
    "x = Dropout(0.5)(x)\n",
    "# There are 41 different possible classes, so we use 41 neurons in our output layer\n",
    "x = Dense(2, activation='softmax')(x)\n",
    "\n",
    "model = Model(inputs=input_, outputs=x)"
   ]
  },
  {
   "cell_type": "code",
   "execution_count": 5,
   "metadata": {},
   "outputs": [],
   "source": [
    "model.compile(loss='categorical_crossentropy', optimizer='adam', metrics=['accuracy'])"
   ]
  },
  {
   "cell_type": "code",
   "execution_count": 6,
   "metadata": {},
   "outputs": [
    {
     "name": "stdout",
     "output_type": "stream",
     "text": [
      "_________________________________________________________________\n",
      "Layer (type)                 Output Shape              Param #   \n",
      "=================================================================\n",
      "input_1 (InputLayer)         (None, 20)                0         \n",
      "_________________________________________________________________\n",
      "embedding_1 (Embedding)      (None, 20, 128)           6400000   \n",
      "_________________________________________________________________\n",
      "lstm_1 (LSTM)                (None, 20, 25)            15400     \n",
      "_________________________________________________________________\n",
      "global_max_pooling1d_1 (Glob (None, 25)                0         \n",
      "_________________________________________________________________\n",
      "dropout_1 (Dropout)          (None, 25)                0         \n",
      "_________________________________________________________________\n",
      "dense_1 (Dense)              (None, 50)                1300      \n",
      "_________________________________________________________________\n",
      "dropout_2 (Dropout)          (None, 50)                0         \n",
      "_________________________________________________________________\n",
      "dense_2 (Dense)              (None, 2)                 102       \n",
      "=================================================================\n",
      "Total params: 6,416,802\n",
      "Trainable params: 6,416,802\n",
      "Non-trainable params: 0\n",
      "_________________________________________________________________\n"
     ]
    }
   ],
   "source": [
    "model.summary()"
   ]
  },
  {
   "cell_type": "code",
   "execution_count": 110,
   "metadata": {},
   "outputs": [
    {
     "name": "stdout",
     "output_type": "stream",
     "text": [
      "Train on 62122 samples, validate on 6903 samples\n",
      "Epoch 1/2\n",
      "62122/62122 [==============================] - 84s 1ms/step - loss: 0.1770 - acc: 0.9629 - val_loss: 0.1418 - val_acc: 0.9673\n",
      "Epoch 2/2\n",
      "62122/62122 [==============================] - 83s 1ms/step - loss: 0.1376 - acc: 0.9649 - val_loss: 0.1520 - val_acc: 0.9673\n"
     ]
    },
    {
     "data": {
      "text/plain": [
       "<keras.callbacks.History at 0x7efda21c5048>"
      ]
     },
     "execution_count": 110,
     "metadata": {},
     "output_type": "execute_result"
    }
   ],
   "source": [
    "model.fit(X_t, y, epochs=2, batch_size=50, validation_split=0.1)"
   ]
  },
  {
   "cell_type": "code",
   "execution_count": 7,
   "metadata": {},
   "outputs": [],
   "source": [
    "embedding_size = 128\n",
    "input_ = Input(shape=(50,))\n",
    "x = Embedding(50000, embedding_size)(input_)\n",
    "x = GRU(50, return_sequences=True)(x)\n",
    "x = GlobalMaxPool1D()(x)\n",
    "x = Dropout(0.5)(x)\n",
    "x = Dense(50, activation='relu')(x)\n",
    "x = Dropout(0.5)(x)\n",
    "\n",
    "x = Dense(2, activation='softmax')(x)\n",
    "\n",
    "model = Model(inputs=input_, outputs=x)"
   ]
  },
  {
   "cell_type": "code",
   "execution_count": 8,
   "metadata": {},
   "outputs": [],
   "source": [
    "model.compile(loss='categorical_crossentropy', optimizer='rmsprop', metrics=['accuracy'])"
   ]
  },
  {
   "cell_type": "code",
   "execution_count": 9,
   "metadata": {},
   "outputs": [
    {
     "name": "stdout",
     "output_type": "stream",
     "text": [
      "_________________________________________________________________\n",
      "Layer (type)                 Output Shape              Param #   \n",
      "=================================================================\n",
      "input_2 (InputLayer)         (None, 50)                0         \n",
      "_________________________________________________________________\n",
      "embedding_2 (Embedding)      (None, 50, 128)           6400000   \n",
      "_________________________________________________________________\n",
      "gru_1 (GRU)                  (None, 50, 50)            26850     \n",
      "_________________________________________________________________\n",
      "global_max_pooling1d_2 (Glob (None, 50)                0         \n",
      "_________________________________________________________________\n",
      "dropout_3 (Dropout)          (None, 50)                0         \n",
      "_________________________________________________________________\n",
      "dense_3 (Dense)              (None, 50)                2550      \n",
      "_________________________________________________________________\n",
      "dropout_4 (Dropout)          (None, 50)                0         \n",
      "_________________________________________________________________\n",
      "dense_4 (Dense)              (None, 2)                 102       \n",
      "=================================================================\n",
      "Total params: 6,429,502\n",
      "Trainable params: 6,429,502\n",
      "Non-trainable params: 0\n",
      "_________________________________________________________________\n"
     ]
    }
   ],
   "source": [
    "model.summary()"
   ]
  },
  {
   "cell_type": "code",
   "execution_count": 185,
   "metadata": {},
   "outputs": [
    {
     "name": "stdout",
     "output_type": "stream",
     "text": [
      "Train on 62122 samples, validate on 6903 samples\n",
      "Epoch 1/5\n",
      "62122/62122 [==============================] - 23s 367us/step - loss: 0.2178 - acc: 0.9607 - val_loss: 0.1453 - val_acc: 0.9673\n",
      "Epoch 2/5\n",
      "62122/62122 [==============================] - 19s 301us/step - loss: 0.1633 - acc: 0.9649 - val_loss: 0.1430 - val_acc: 0.9673\n",
      "Epoch 3/5\n",
      "62122/62122 [==============================] - 19s 300us/step - loss: 0.1506 - acc: 0.9649 - val_loss: 0.1487 - val_acc: 0.9673\n",
      "Epoch 4/5\n",
      "62122/62122 [==============================] - 19s 302us/step - loss: 0.1336 - acc: 0.9650 - val_loss: 0.1557 - val_acc: 0.9673\n",
      "Epoch 5/5\n",
      "62122/62122 [==============================] - 19s 298us/step - loss: 0.1149 - acc: 0.9652 - val_loss: 0.1715 - val_acc: 0.9667\n"
     ]
    },
    {
     "data": {
      "text/plain": [
       "<keras.callbacks.History at 0x7efdb37a62b0>"
      ]
     },
     "execution_count": 185,
     "metadata": {},
     "output_type": "execute_result"
    }
   ],
   "source": [
    "model.fit(X_t, y, epochs=5, batch_size=1000, validation_split=0.1)"
   ]
  },
  {
   "cell_type": "code",
   "execution_count": 186,
   "metadata": {},
   "outputs": [],
   "source": [
    "preds = model.predict(X_t)"
   ]
  },
  {
   "cell_type": "code",
   "execution_count": 192,
   "metadata": {},
   "outputs": [
    {
     "data": {
      "text/html": [
       "<div>\n",
       "<style scoped>\n",
       "    .dataframe tbody tr th:only-of-type {\n",
       "        vertical-align: middle;\n",
       "    }\n",
       "\n",
       "    .dataframe tbody tr th {\n",
       "        vertical-align: top;\n",
       "    }\n",
       "\n",
       "    .dataframe thead th {\n",
       "        text-align: right;\n",
       "    }\n",
       "</style>\n",
       "<table border=\"1\" class=\"dataframe\">\n",
       "  <thead>\n",
       "    <tr style=\"text-align: right;\">\n",
       "      <th></th>\n",
       "      <th>description</th>\n",
       "      <th>target</th>\n",
       "      <th>preds</th>\n",
       "    </tr>\n",
       "    <tr>\n",
       "      <th>Id</th>\n",
       "      <th></th>\n",
       "      <th></th>\n",
       "      <th></th>\n",
       "    </tr>\n",
       "  </thead>\n",
       "  <tbody>\n",
       "    <tr>\n",
       "      <th>28835</th>\n",
       "      <td>Editora de moda, apresentadora, jornalista e e...</td>\n",
       "      <td>0</td>\n",
       "      <td>0.007872</td>\n",
       "    </tr>\n",
       "    <tr>\n",
       "      <th>204136</th>\n",
       "      <td>I cover D.C. government for @WashingtonPost. S...</td>\n",
       "      <td>0</td>\n",
       "      <td>0.242138</td>\n",
       "    </tr>\n",
       "    <tr>\n",
       "      <th>111815</th>\n",
       "      <td>Scribbler: Music Ally / Observer / The Week Ju...</td>\n",
       "      <td>0</td>\n",
       "      <td>0.058281</td>\n",
       "    </tr>\n",
       "    <tr>\n",
       "      <th>36410</th>\n",
       "      <td>home of entertainment since 1921. Rewards: @pu...</td>\n",
       "      <td>0</td>\n",
       "      <td>0.086661</td>\n",
       "    </tr>\n",
       "    <tr>\n",
       "      <th>106949</th>\n",
       "      <td>News Anchor &amp; Presenter BBC World News - \"Talk...</td>\n",
       "      <td>0</td>\n",
       "      <td>0.045177</td>\n",
       "    </tr>\n",
       "  </tbody>\n",
       "</table>\n",
       "</div>"
      ],
      "text/plain": [
       "                                              description  target     preds\n",
       "Id                                                                         \n",
       "28835   Editora de moda, apresentadora, jornalista e e...       0  0.007872\n",
       "204136  I cover D.C. government for @WashingtonPost. S...       0  0.242138\n",
       "111815  Scribbler: Music Ally / Observer / The Week Ju...       0  0.058281\n",
       "36410   home of entertainment since 1921. Rewards: @pu...       0  0.086661\n",
       "106949  News Anchor & Presenter BBC World News - \"Talk...       0  0.045177"
      ]
     },
     "execution_count": 192,
     "metadata": {},
     "output_type": "execute_result"
    }
   ],
   "source": [
    "descriptions_df['preds'] = [x[1] for x in preds]\n",
    "descriptions_df.head()"
   ]
  },
  {
   "cell_type": "code",
   "execution_count": 195,
   "metadata": {},
   "outputs": [],
   "source": [
    "emb_and_desc_score = emb_df.join(descriptions_df.drop(columns=['description']))"
   ]
  },
  {
   "cell_type": "code",
   "execution_count": null,
   "metadata": {},
   "outputs": [],
   "source": [
    "emb_and_desc_score.head()"
   ]
  },
  {
   "cell_type": "code",
   "execution_count": 201,
   "metadata": {},
   "outputs": [],
   "source": [
    "emb_and_desc_score.to_csv('/storage/emb_and_desc_score.csv')"
   ]
  },
  {
   "cell_type": "markdown",
   "metadata": {},
   "source": [
    "## Classifiers\n",
    "Combining probabilities from neural network with vectors from node2vev"
   ]
  },
  {
   "cell_type": "code",
   "execution_count": 10,
   "metadata": {},
   "outputs": [],
   "source": [
    "emb_and_desc_score = pd.read_csv('/storage/emb_and_desc_score.csv')"
   ]
  },
  {
   "cell_type": "code",
   "execution_count": 11,
   "metadata": {},
   "outputs": [],
   "source": [
    "X = emb_and_desc_score.drop(columns=['target'])\n",
    "y= emb_and_desc_score.target"
   ]
  },
  {
   "cell_type": "code",
   "execution_count": 12,
   "metadata": {},
   "outputs": [],
   "source": [
    "X_train, X_test, y_train, y_test = train_test_split(X, y, test_size=.3)"
   ]
  },
  {
   "cell_type": "code",
   "execution_count": 13,
   "metadata": {},
   "outputs": [],
   "source": [
    "scaler = StandardScaler()\n",
    "scaled_X_train = scaler.fit_transform(X_train)\n",
    "scaled_X_test = scaler.transform(X_test)"
   ]
  },
  {
   "cell_type": "code",
   "execution_count": 14,
   "metadata": {},
   "outputs": [
    {
     "name": "stdout",
     "output_type": "stream",
     "text": [
      "Fitting 3 folds for each of 16 candidates, totalling 48 fits\n",
      "[CV] learning_rate=0.05, max_depth=6, min_child_weight=1, n_estimators=100, subsample=0.7 \n"
     ]
    },
    {
     "name": "stderr",
     "output_type": "stream",
     "text": [
      "[Parallel(n_jobs=1)]: Using backend SequentialBackend with 1 concurrent workers.\n"
     ]
    },
    {
     "name": "stdout",
     "output_type": "stream",
     "text": [
      "[CV]  learning_rate=0.05, max_depth=6, min_child_weight=1, n_estimators=100, subsample=0.7, score=0.3641304347826087, total=  46.4s\n",
      "[CV] learning_rate=0.05, max_depth=6, min_child_weight=1, n_estimators=100, subsample=0.7 \n"
     ]
    },
    {
     "name": "stderr",
     "output_type": "stream",
     "text": [
      "[Parallel(n_jobs=1)]: Done   1 out of   1 | elapsed:   46.6s remaining:    0.0s\n"
     ]
    },
    {
     "name": "stdout",
     "output_type": "stream",
     "text": [
      "[CV]  learning_rate=0.05, max_depth=6, min_child_weight=1, n_estimators=100, subsample=0.7, score=0.36594202898550726, total=  46.0s\n",
      "[CV] learning_rate=0.05, max_depth=6, min_child_weight=1, n_estimators=100, subsample=0.7 \n"
     ]
    },
    {
     "name": "stderr",
     "output_type": "stream",
     "text": [
      "[Parallel(n_jobs=1)]: Done   2 out of   2 | elapsed:  1.5min remaining:    0.0s\n"
     ]
    },
    {
     "name": "stdout",
     "output_type": "stream",
     "text": [
      "[CV]  learning_rate=0.05, max_depth=6, min_child_weight=1, n_estimators=100, subsample=0.7, score=0.36231884057971014, total=  46.0s\n",
      "[CV] learning_rate=0.05, max_depth=6, min_child_weight=1, n_estimators=250, subsample=0.7 \n"
     ]
    },
    {
     "name": "stderr",
     "output_type": "stream",
     "text": [
      "[Parallel(n_jobs=1)]: Done   3 out of   3 | elapsed:  2.3min remaining:    0.0s\n"
     ]
    },
    {
     "name": "stdout",
     "output_type": "stream",
     "text": [
      "[CV]  learning_rate=0.05, max_depth=6, min_child_weight=1, n_estimators=250, subsample=0.7, score=0.3532608695652174, total= 2.0min\n",
      "[CV] learning_rate=0.05, max_depth=6, min_child_weight=1, n_estimators=250, subsample=0.7 \n"
     ]
    },
    {
     "name": "stderr",
     "output_type": "stream",
     "text": [
      "[Parallel(n_jobs=1)]: Done   4 out of   4 | elapsed:  4.3min remaining:    0.0s\n"
     ]
    },
    {
     "name": "stdout",
     "output_type": "stream",
     "text": [
      "[CV]  learning_rate=0.05, max_depth=6, min_child_weight=1, n_estimators=250, subsample=0.7, score=0.36594202898550726, total= 2.0min\n",
      "[CV] learning_rate=0.05, max_depth=6, min_child_weight=1, n_estimators=250, subsample=0.7 \n"
     ]
    },
    {
     "name": "stderr",
     "output_type": "stream",
     "text": [
      "[Parallel(n_jobs=1)]: Done   5 out of   5 | elapsed:  6.3min remaining:    0.0s\n"
     ]
    },
    {
     "name": "stdout",
     "output_type": "stream",
     "text": [
      "[CV]  learning_rate=0.05, max_depth=6, min_child_weight=1, n_estimators=250, subsample=0.7, score=0.3641304347826087, total= 2.0min\n",
      "[CV] learning_rate=0.05, max_depth=6, min_child_weight=5, n_estimators=100, subsample=0.7 \n"
     ]
    },
    {
     "name": "stderr",
     "output_type": "stream",
     "text": [
      "[Parallel(n_jobs=1)]: Done   6 out of   6 | elapsed:  8.3min remaining:    0.0s\n"
     ]
    },
    {
     "name": "stdout",
     "output_type": "stream",
     "text": [
      "[CV]  learning_rate=0.05, max_depth=6, min_child_weight=5, n_estimators=100, subsample=0.7, score=0.36594202898550726, total=  43.5s\n",
      "[CV] learning_rate=0.05, max_depth=6, min_child_weight=5, n_estimators=100, subsample=0.7 \n"
     ]
    },
    {
     "name": "stderr",
     "output_type": "stream",
     "text": [
      "[Parallel(n_jobs=1)]: Done   7 out of   7 | elapsed:  9.1min remaining:    0.0s\n"
     ]
    },
    {
     "name": "stdout",
     "output_type": "stream",
     "text": [
      "[CV]  learning_rate=0.05, max_depth=6, min_child_weight=5, n_estimators=100, subsample=0.7, score=0.358695652173913, total=  44.1s\n",
      "[CV] learning_rate=0.05, max_depth=6, min_child_weight=5, n_estimators=100, subsample=0.7 \n"
     ]
    },
    {
     "name": "stderr",
     "output_type": "stream",
     "text": [
      "[Parallel(n_jobs=1)]: Done   8 out of   8 | elapsed:  9.8min remaining:    0.0s\n"
     ]
    },
    {
     "name": "stdout",
     "output_type": "stream",
     "text": [
      "[CV]  learning_rate=0.05, max_depth=6, min_child_weight=5, n_estimators=100, subsample=0.7, score=0.3786231884057971, total=  43.7s\n",
      "[CV] learning_rate=0.05, max_depth=6, min_child_weight=5, n_estimators=250, subsample=0.7 \n"
     ]
    },
    {
     "name": "stderr",
     "output_type": "stream",
     "text": [
      "[Parallel(n_jobs=1)]: Done   9 out of   9 | elapsed: 10.5min remaining:    0.0s\n"
     ]
    },
    {
     "name": "stdout",
     "output_type": "stream",
     "text": [
      "[CV]  learning_rate=0.05, max_depth=6, min_child_weight=5, n_estimators=250, subsample=0.7, score=0.35688405797101447, total= 1.9min\n",
      "[CV] learning_rate=0.05, max_depth=6, min_child_weight=5, n_estimators=250, subsample=0.7 \n",
      "[CV]  learning_rate=0.05, max_depth=6, min_child_weight=5, n_estimators=250, subsample=0.7, score=0.358695652173913, total= 1.9min\n",
      "[CV] learning_rate=0.05, max_depth=6, min_child_weight=5, n_estimators=250, subsample=0.7 \n",
      "[CV]  learning_rate=0.05, max_depth=6, min_child_weight=5, n_estimators=250, subsample=0.7, score=0.37681159420289856, total= 1.9min\n",
      "[CV] learning_rate=0.05, max_depth=10, min_child_weight=1, n_estimators=100, subsample=0.7 \n",
      "[CV]  learning_rate=0.05, max_depth=10, min_child_weight=1, n_estimators=100, subsample=0.7, score=0.36231884057971014, total= 1.2min\n",
      "[CV] learning_rate=0.05, max_depth=10, min_child_weight=1, n_estimators=100, subsample=0.7 \n",
      "[CV]  learning_rate=0.05, max_depth=10, min_child_weight=1, n_estimators=100, subsample=0.7, score=0.35688405797101447, total= 1.2min\n",
      "[CV] learning_rate=0.05, max_depth=10, min_child_weight=1, n_estimators=100, subsample=0.7 \n",
      "[CV]  learning_rate=0.05, max_depth=10, min_child_weight=1, n_estimators=100, subsample=0.7, score=0.37681159420289856, total= 1.2min\n",
      "[CV] learning_rate=0.05, max_depth=10, min_child_weight=1, n_estimators=250, subsample=0.7 \n",
      "[CV]  learning_rate=0.05, max_depth=10, min_child_weight=1, n_estimators=250, subsample=0.7, score=0.34782608695652173, total= 3.1min\n",
      "[CV] learning_rate=0.05, max_depth=10, min_child_weight=1, n_estimators=250, subsample=0.7 \n",
      "[CV]  learning_rate=0.05, max_depth=10, min_child_weight=1, n_estimators=250, subsample=0.7, score=0.338768115942029, total= 3.2min\n",
      "[CV] learning_rate=0.05, max_depth=10, min_child_weight=1, n_estimators=250, subsample=0.7 \n",
      "[CV]  learning_rate=0.05, max_depth=10, min_child_weight=1, n_estimators=250, subsample=0.7, score=0.35507246376811596, total= 3.1min\n",
      "[CV] learning_rate=0.05, max_depth=10, min_child_weight=5, n_estimators=100, subsample=0.7 \n",
      "[CV]  learning_rate=0.05, max_depth=10, min_child_weight=5, n_estimators=100, subsample=0.7, score=0.3641304347826087, total= 1.1min\n",
      "[CV] learning_rate=0.05, max_depth=10, min_child_weight=5, n_estimators=100, subsample=0.7 \n",
      "[CV]  learning_rate=0.05, max_depth=10, min_child_weight=5, n_estimators=100, subsample=0.7, score=0.3695652173913043, total= 1.1min\n",
      "[CV] learning_rate=0.05, max_depth=10, min_child_weight=5, n_estimators=100, subsample=0.7 \n",
      "[CV]  learning_rate=0.05, max_depth=10, min_child_weight=5, n_estimators=100, subsample=0.7, score=0.3713768115942029, total= 1.1min\n",
      "[CV] learning_rate=0.05, max_depth=10, min_child_weight=5, n_estimators=250, subsample=0.7 \n",
      "[CV]  learning_rate=0.05, max_depth=10, min_child_weight=5, n_estimators=250, subsample=0.7, score=0.3423913043478261, total= 2.9min\n",
      "[CV] learning_rate=0.05, max_depth=10, min_child_weight=5, n_estimators=250, subsample=0.7 \n",
      "[CV]  learning_rate=0.05, max_depth=10, min_child_weight=5, n_estimators=250, subsample=0.7, score=0.35507246376811596, total= 2.8min\n",
      "[CV] learning_rate=0.05, max_depth=10, min_child_weight=5, n_estimators=250, subsample=0.7 \n",
      "[CV]  learning_rate=0.05, max_depth=10, min_child_weight=5, n_estimators=250, subsample=0.7, score=0.36594202898550726, total= 2.8min\n",
      "[CV] learning_rate=0.01, max_depth=6, min_child_weight=1, n_estimators=100, subsample=0.7 \n",
      "[CV]  learning_rate=0.01, max_depth=6, min_child_weight=1, n_estimators=100, subsample=0.7, score=0.36594202898550726, total=  45.2s\n",
      "[CV] learning_rate=0.01, max_depth=6, min_child_weight=1, n_estimators=100, subsample=0.7 \n",
      "[CV]  learning_rate=0.01, max_depth=6, min_child_weight=1, n_estimators=100, subsample=0.7, score=0.3695652173913043, total=  45.3s\n",
      "[CV] learning_rate=0.01, max_depth=6, min_child_weight=1, n_estimators=100, subsample=0.7 \n",
      "[CV]  learning_rate=0.01, max_depth=6, min_child_weight=1, n_estimators=100, subsample=0.7, score=0.375, total=  44.3s\n",
      "[CV] learning_rate=0.01, max_depth=6, min_child_weight=1, n_estimators=250, subsample=0.7 \n",
      "[CV]  learning_rate=0.01, max_depth=6, min_child_weight=1, n_estimators=250, subsample=0.7, score=0.375, total= 1.9min\n",
      "[CV] learning_rate=0.01, max_depth=6, min_child_weight=1, n_estimators=250, subsample=0.7 \n",
      "[CV]  learning_rate=0.01, max_depth=6, min_child_weight=1, n_estimators=250, subsample=0.7, score=0.37318840579710144, total= 1.9min\n",
      "[CV] learning_rate=0.01, max_depth=6, min_child_weight=1, n_estimators=250, subsample=0.7 \n",
      "[CV]  learning_rate=0.01, max_depth=6, min_child_weight=1, n_estimators=250, subsample=0.7, score=0.37681159420289856, total= 1.9min\n",
      "[CV] learning_rate=0.01, max_depth=6, min_child_weight=5, n_estimators=100, subsample=0.7 \n",
      "[CV]  learning_rate=0.01, max_depth=6, min_child_weight=5, n_estimators=100, subsample=0.7, score=0.3641304347826087, total=  41.3s\n",
      "[CV] learning_rate=0.01, max_depth=6, min_child_weight=5, n_estimators=100, subsample=0.7 \n",
      "[CV]  learning_rate=0.01, max_depth=6, min_child_weight=5, n_estimators=100, subsample=0.7, score=0.3677536231884058, total=  41.0s\n",
      "[CV] learning_rate=0.01, max_depth=6, min_child_weight=5, n_estimators=100, subsample=0.7 \n",
      "[CV]  learning_rate=0.01, max_depth=6, min_child_weight=5, n_estimators=100, subsample=0.7, score=0.375, total=  40.6s\n",
      "[CV] learning_rate=0.01, max_depth=6, min_child_weight=5, n_estimators=250, subsample=0.7 \n",
      "[CV]  learning_rate=0.01, max_depth=6, min_child_weight=5, n_estimators=250, subsample=0.7, score=0.3695652173913043, total= 1.8min\n",
      "[CV] learning_rate=0.01, max_depth=6, min_child_weight=5, n_estimators=250, subsample=0.7 \n",
      "[CV]  learning_rate=0.01, max_depth=6, min_child_weight=5, n_estimators=250, subsample=0.7, score=0.37318840579710144, total= 1.8min\n",
      "[CV] learning_rate=0.01, max_depth=6, min_child_weight=5, n_estimators=250, subsample=0.7 \n",
      "[CV]  learning_rate=0.01, max_depth=6, min_child_weight=5, n_estimators=250, subsample=0.7, score=0.37681159420289856, total= 1.8min\n",
      "[CV] learning_rate=0.01, max_depth=10, min_child_weight=1, n_estimators=100, subsample=0.7 \n",
      "[CV]  learning_rate=0.01, max_depth=10, min_child_weight=1, n_estimators=100, subsample=0.7, score=0.36594202898550726, total= 1.2min\n",
      "[CV] learning_rate=0.01, max_depth=10, min_child_weight=1, n_estimators=100, subsample=0.7 \n",
      "[CV]  learning_rate=0.01, max_depth=10, min_child_weight=1, n_estimators=100, subsample=0.7, score=0.36594202898550726, total= 1.1min\n",
      "[CV] learning_rate=0.01, max_depth=10, min_child_weight=1, n_estimators=100, subsample=0.7 \n",
      "[CV]  learning_rate=0.01, max_depth=10, min_child_weight=1, n_estimators=100, subsample=0.7, score=0.37318840579710144, total= 1.1min\n",
      "[CV] learning_rate=0.01, max_depth=10, min_child_weight=1, n_estimators=250, subsample=0.7 \n",
      "[CV]  learning_rate=0.01, max_depth=10, min_child_weight=1, n_estimators=250, subsample=0.7, score=0.36231884057971014, total= 3.0min\n",
      "[CV] learning_rate=0.01, max_depth=10, min_child_weight=1, n_estimators=250, subsample=0.7 \n",
      "[CV]  learning_rate=0.01, max_depth=10, min_child_weight=1, n_estimators=250, subsample=0.7, score=0.358695652173913, total= 3.0min\n",
      "[CV] learning_rate=0.01, max_depth=10, min_child_weight=1, n_estimators=250, subsample=0.7 \n",
      "[CV]  learning_rate=0.01, max_depth=10, min_child_weight=1, n_estimators=250, subsample=0.7, score=0.3695652173913043, total= 2.8min\n",
      "[CV] learning_rate=0.01, max_depth=10, min_child_weight=5, n_estimators=100, subsample=0.7 \n",
      "[CV]  learning_rate=0.01, max_depth=10, min_child_weight=5, n_estimators=100, subsample=0.7, score=0.36231884057971014, total=  57.1s\n",
      "[CV] learning_rate=0.01, max_depth=10, min_child_weight=5, n_estimators=100, subsample=0.7 \n",
      "[CV]  learning_rate=0.01, max_depth=10, min_child_weight=5, n_estimators=100, subsample=0.7, score=0.3641304347826087, total=  55.8s\n",
      "[CV] learning_rate=0.01, max_depth=10, min_child_weight=5, n_estimators=100, subsample=0.7 \n",
      "[CV]  learning_rate=0.01, max_depth=10, min_child_weight=5, n_estimators=100, subsample=0.7, score=0.375, total=  55.8s\n",
      "[CV] learning_rate=0.01, max_depth=10, min_child_weight=5, n_estimators=250, subsample=0.7 \n",
      "[CV]  learning_rate=0.01, max_depth=10, min_child_weight=5, n_estimators=250, subsample=0.7, score=0.36594202898550726, total= 2.6min\n",
      "[CV] learning_rate=0.01, max_depth=10, min_child_weight=5, n_estimators=250, subsample=0.7 \n",
      "[CV]  learning_rate=0.01, max_depth=10, min_child_weight=5, n_estimators=250, subsample=0.7, score=0.358695652173913, total= 2.5min\n",
      "[CV] learning_rate=0.01, max_depth=10, min_child_weight=5, n_estimators=250, subsample=0.7 \n",
      "[CV]  learning_rate=0.01, max_depth=10, min_child_weight=5, n_estimators=250, subsample=0.7, score=0.3804347826086957, total= 2.5min\n"
     ]
    },
    {
     "name": "stderr",
     "output_type": "stream",
     "text": [
      "[Parallel(n_jobs=1)]: Done  48 out of  48 | elapsed: 79.0min finished\n"
     ]
    },
    {
     "name": "stdout",
     "output_type": "stream",
     "text": [
      "Grid Search found the following optimal parameters: \n",
      "learning_rate: 0.01\n",
      "max_depth: 6\n",
      "min_child_weight: 1\n",
      "n_estimators: 250\n",
      "subsample: 0.7\n",
      "\n",
      "Training Accuracy: 97.8%\n",
      "Validation accuracy: 97.1%\n"
     ]
    }
   ],
   "source": [
    "xgb_clf = xgb.XGBClassifier()\n",
    "param_grid = {\n",
    "    \"learning_rate\": [.05, .01],\n",
    "    'max_depth': [6, 10],\n",
    "    'min_child_weight': [1, 5],\n",
    "    'subsample': [ 0.7],\n",
    "    'n_estimators': [100, 250],\n",
    "}\n",
    "grid_xgb = GridSearchCV(xgb_clf, param_grid, scoring='recall', cv=None, n_jobs=1, verbose=10)\n",
    "grid_xgb.fit(scaled_X_train, y_train)\n",
    "\n",
    "best_parameters = grid_xgb.best_params_\n",
    "\n",
    "print(\"Grid Search found the following optimal parameters: \")\n",
    "for param_name in sorted(best_parameters.keys()):\n",
    "    print(\"%s: %r\" % (param_name, best_parameters[param_name]))\n",
    "\n",
    "training_preds = grid_xgb.predict(scaled_X_train)\n",
    "val_preds = grid_xgb.predict(scaled_X_test)\n",
    "training_accuracy = accuracy_score(y_train, training_preds)\n",
    "val_accuracy = accuracy_score(y_test, val_preds)\n",
    "\n",
    "print(\"\")\n",
    "print(\"Training Accuracy: {:.4}%\".format(training_accuracy * 100))\n",
    "print(\"Validation accuracy: {:.4}%\".format(val_accuracy * 100))"
   ]
  },
  {
   "cell_type": "code",
   "execution_count": 15,
   "metadata": {},
   "outputs": [
    {
     "data": {
      "text/plain": [
       "0.7078651685393258"
      ]
     },
     "execution_count": 15,
     "metadata": {},
     "output_type": "execute_result"
    }
   ],
   "source": [
    "precision_score(y_test, val_preds)"
   ]
  },
  {
   "cell_type": "code",
   "execution_count": 16,
   "metadata": {},
   "outputs": [
    {
     "data": {
      "text/plain": [
       "0.33689839572192515"
      ]
     },
     "execution_count": 16,
     "metadata": {},
     "output_type": "execute_result"
    }
   ],
   "source": [
    "recall_score(y_test, val_preds)"
   ]
  },
  {
   "cell_type": "code",
   "execution_count": 17,
   "metadata": {},
   "outputs": [
    {
     "data": {
      "text/plain": [
       "0.45652173913043481"
      ]
     },
     "execution_count": 17,
     "metadata": {},
     "output_type": "execute_result"
    }
   ],
   "source": [
    "f1_score(y_test, val_preds)"
   ]
  },
  {
   "cell_type": "code",
   "execution_count": 19,
   "metadata": {},
   "outputs": [],
   "source": [
    "def plot_confusion_matrix(cm, classes,\n",
    "                          normalize=False,\n",
    "                          title='Confusion matrix',\n",
    "                          cmap=plt.cm.Blues):\n",
    "    #Add Normalization Option\n",
    "    if normalize:\n",
    "        cm = cm.astype('float') / cm.sum(axis=1)[:, np.newaxis]\n",
    "        print(\"Normalized confusion matrix\")\n",
    "    else:\n",
    "        print('Confusion matrix, without normalization')\n",
    "\n",
    "    print(cm)\n",
    "\n",
    "    plt.imshow(cm, interpolation='nearest', cmap=cmap)\n",
    "    plt.title(title)\n",
    "    plt.colorbar()\n",
    "    tick_marks = np.arange(len(classes))\n",
    "    plt.xticks(tick_marks, classes, rotation=45)\n",
    "    plt.yticks(tick_marks, classes)\n",
    "\n",
    "    fmt = '.2f' if normalize else 'd'\n",
    "    thresh = cm.max() / 2.\n",
    "    for i, j in itertools.product(range(cm.shape[0]), range(cm.shape[1])):\n",
    "        plt.text(j, i, format(cm[i, j], fmt),\n",
    "                 horizontalalignment=\"center\",\n",
    "                 color=\"white\" if cm[i, j] > thresh else \"black\")\n",
    "\n",
    "    plt.tight_layout()\n",
    "    plt.ylabel('True label')\n",
    "    plt.xlabel('Predicted label')"
   ]
  },
  {
   "cell_type": "code",
   "execution_count": 20,
   "metadata": {},
   "outputs": [
    {
     "name": "stdout",
     "output_type": "stream",
     "text": [
      "Confusion matrix, without normalization\n",
      "[[19856   104]\n",
      " [  496   252]]\n"
     ]
    },
    {
     "data": {
      "image/png": "[encoded data removed]",
      "text/plain": [
       "<Figure size 432x288 with 2 Axes>"
      ]
     },
     "metadata": {
      "needs_background": "light"
     },
     "output_type": "display_data"
    }
   ],
   "source": [
    "cm = confusion_matrix(y_test, val_preds)\n",
    "plot_confusion_matrix(cm, ['0', '1'])"
   ]
  },
  {
   "cell_type": "code",
   "execution_count": 25,
   "metadata": {},
   "outputs": [],
   "source": [
    "svm_clf = svm.SVC()\n",
    "param_grid_svm = {'C': [1, 10], 'gamma': [0.001, 0.01], 'kernel': ['rbf']}\n",
    " "
   ]
  },
  {
   "cell_type": "code",
   "execution_count": 26,
   "metadata": {},
   "outputs": [
    {
     "name": "stdout",
     "output_type": "stream",
     "text": [
      "Grid Search found the following optimal parameters: \n",
      "C: 10\n",
      "gamma: 0.01\n",
      "kernel: 'rbf'\n",
      "\n",
      "Training Accuracy: 97.59%\n",
      "Validation accuracy: 97.07%\n"
     ]
    }
   ],
   "source": [
    "grid_svm = GridSearchCV(svm_clf, param_grid_svm, scoring=\"recall\", cv=None, n_jobs=1)\n",
    "grid_svm.fit(scaled_X_train, y_train)\n",
    "\n",
    "best_parameters = grid_svm.best_params_\n",
    "\n",
    "print(\"Grid Search found the following optimal parameters: \")\n",
    "for param_name in sorted(best_parameters.keys()):\n",
    "    print(\"%s: %r\" % (param_name, best_parameters[param_name]))\n",
    "\n",
    "training_preds = grid_svm.predict(scaled_X_train)\n",
    "val_preds = grid_svm.predict(scaled_X_test)\n",
    "training_accuracy = accuracy_score(y_train, training_preds)\n",
    "val_accuracy = accuracy_score(y_test, val_preds)\n",
    "\n",
    "print(\"\")\n",
    "print(\"Training Accuracy: {:.4}%\".format(training_accuracy * 100))\n",
    "print(\"Validation accuracy: {:.4}%\".format(val_accuracy * 100))"
   ]
  },
  {
   "cell_type": "code",
   "execution_count": 27,
   "metadata": {},
   "outputs": [
    {
     "data": {
      "text/plain": [
       "0.69315068493150689"
      ]
     },
     "execution_count": 27,
     "metadata": {},
     "output_type": "execute_result"
    }
   ],
   "source": [
    "precision_score(y_test, val_preds)"
   ]
  },
  {
   "cell_type": "code",
   "execution_count": 28,
   "metadata": {},
   "outputs": [
    {
     "data": {
      "text/plain": [
       "0.33823529411764708"
      ]
     },
     "execution_count": 28,
     "metadata": {},
     "output_type": "execute_result"
    }
   ],
   "source": [
    "recall_score(y_test, val_preds)"
   ]
  },
  {
   "cell_type": "code",
   "execution_count": 29,
   "metadata": {},
   "outputs": [
    {
     "data": {
      "text/plain": [
       "0.45462713387241693"
      ]
     },
     "execution_count": 29,
     "metadata": {},
     "output_type": "execute_result"
    }
   ],
   "source": [
    "f1_score(y_test, val_preds)"
   ]
  },
  {
   "cell_type": "code",
   "execution_count": 30,
   "metadata": {},
   "outputs": [
    {
     "name": "stdout",
     "output_type": "stream",
     "text": [
      "Confusion matrix, without normalization\n",
      "[[19848   112]\n",
      " [  495   253]]\n"
     ]
    },
    {
     "data": {
      "image/png": "[encoded data removed]",
      "text/plain": [
       "<Figure size 432x288 with 2 Axes>"
      ]
     },
     "metadata": {
      "needs_background": "light"
     },
     "output_type": "display_data"
    }
   ],
   "source": [
    "cm = confusion_matrix(y_test, val_preds)\n",
    "plot_confusion_matrix(cm, ['0', '1'])"
   ]
  },
  {
   "cell_type": "markdown",
   "metadata": {},
   "source": [
    "### K Means Clustering"
   ]
  },
  {
   "cell_type": "code",
   "execution_count": 16,
   "metadata": {},
   "outputs": [],
   "source": [
    "X = emb_df.drop(columns=['target'])"
   ]
  },
  {
   "cell_type": "code",
   "execution_count": 17,
   "metadata": {},
   "outputs": [],
   "source": [
    "y = emb_df.target"
   ]
  },
  {
   "cell_type": "code",
   "execution_count": 52,
   "metadata": {},
   "outputs": [],
   "source": [
    "k_means_10 = KMeans(n_clusters=10).fit(X)\n",
    "k_means_20 = KMeans(n_clusters=20).fit(X)\n",
    "k_means_50 = KMeans(n_clusters=50).fit(X)\n",
    "k_means_100 = KMeans(n_clusters=100).fit(X)\n",
    "k_means_200 = KMeans(n_clusters=200).fit(X)\n",
    "k_list = [k_means_10, k_means_20, k_means_50, k_means_100, k_means_200]"
   ]
  },
  {
   "cell_type": "code",
   "execution_count": 53,
   "metadata": {},
   "outputs": [],
   "source": [
    "CH_score = []\n",
    "\n",
    "for model in k_list:\n",
    "    labels = model.labels_\n",
    "    CH_score.append(calinski_harabaz_score(X, labels))"
   ]
  },
  {
   "cell_type": "code",
   "execution_count": 54,
   "metadata": {},
   "outputs": [
    {
     "data": {
      "image/png": "[encoded data removed]",
      "text/plain": [
       "<Figure size 432x288 with 1 Axes>"
      ]
     },
     "metadata": {
      "needs_background": "light"
     },
     "output_type": "display_data"
    }
   ],
   "source": [
    "plt.plot([10, 20, 50, 100, 200], CH_score)\n",
    "plt.xticks([10,20,50,100,200])\n",
    "plt.title(\"Calinski Harabaz Scores for Different Values of K\")\n",
    "plt.ylabel(\"Variance Ratio\")\n",
    "plt.xlabel(\"K=\")\n",
    "plt.show()"
   ]
  },
  {
   "cell_type": "code",
   "execution_count": 67,
   "metadata": {},
   "outputs": [],
   "source": [
    "k_200_preds = k_means_200.predict(X)"
   ]
  },
  {
   "cell_type": "code",
   "execution_count": 68,
   "metadata": {},
   "outputs": [],
   "source": [
    "cluster_df = emb_df[['target']]"
   ]
  },
  {
   "cell_type": "code",
   "execution_count": 69,
   "metadata": {},
   "outputs": [
    {
     "name": "stderr",
     "output_type": "stream",
     "text": [
      "/opt/conda/lib/python3.6/site-packages/ipykernel_launcher.py:1: SettingWithCopyWarning: \n",
      "A value is trying to be set on a copy of a slice from a DataFrame.\n",
      "Try using .loc[row_indexer,col_indexer] = value instead\n",
      "\n",
      "See the caveats in the documentation: http://pandas.pydata.org/pandas-docs/stable/indexing.html#indexing-view-versus-copy\n",
      "  \"\"\"Entry point for launching an IPython kernel.\n"
     ]
    }
   ],
   "source": [
    "cluster_df['cluster'] = k_100_preds"
   ]
  }
 ],
 "metadata": {
  "kernelspec": {
   "display_name": "Python 3",
   "language": "python",
   "name": "python3"
  },
  "language_info": {
   "codemirror_mode": {
    "name": "ipython",
    "version": 3
   },
   "file_extension": ".py",
   "mimetype": "text/x-python",
   "name": "python",
   "nbconvert_exporter": "python",
   "pygments_lexer": "ipython3",
   "version": "3.6.7"
  }
 },
 "nbformat": 4,
 "nbformat_minor": 2
}
