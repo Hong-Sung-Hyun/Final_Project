{
 "cells": [
  {
   "cell_type": "code",
   "execution_count": 1,
   "metadata": {},
   "outputs": [],
   "source": [
    "import pandas as pd\n",
    "import re\n",
    "import numpy as np\n",
    "import sqlalchemy\n",
    "import sqlite3"
   ]
  },
  {
   "cell_type": "code",
   "execution_count": 2,
   "metadata": {},
   "outputs": [],
   "source": [
    "nodes = pd.read_csv('network/twitternetworknodes.csv')"
   ]
  },
  {
   "cell_type": "code",
   "execution_count": 3,
   "metadata": {},
   "outputs": [],
   "source": [
    "verified_original = pd.read_json('/Users/briansrebrenik/DSCourseMaterials/projects/finalProject/twitterData/TU_verified.ndjson', lines=True)"
   ]
  },
  {
   "cell_type": "code",
   "execution_count": 5,
   "metadata": {
    "scrolled": true
   },
   "outputs": [
    {
     "data": {
      "text/plain": [
       "Index(['contributors_enabled', 'created_at', 'default_profile',\n",
       "       'default_profile_image', 'description', 'entities', 'favourites_count',\n",
       "       'follow_request_sent', 'followers_count', 'following', 'friends_count',\n",
       "       'geo_enabled', 'has_extended_profile', 'id', 'id_str',\n",
       "       'is_translation_enabled', 'is_translator', 'lang', 'listed_count',\n",
       "       'location', 'name', 'notifications', 'profile_background_color',\n",
       "       'profile_background_image_url', 'profile_background_image_url_https',\n",
       "       'profile_background_tile', 'profile_banner_url', 'profile_image_url',\n",
       "       'profile_image_url_https', 'profile_link_color',\n",
       "       'profile_sidebar_border_color', 'profile_sidebar_fill_color',\n",
       "       'profile_text_color', 'profile_use_background_image', 'protected',\n",
       "       'retrieved_on', 'screen_name', 'statuses_count', 'time_zone',\n",
       "       'translator_type', 'url', 'utc_offset', 'verified',\n",
       "       'withheld_in_countries'],\n",
       "      dtype='object')"
      ]
     },
     "execution_count": 5,
     "metadata": {},
     "output_type": "execute_result"
    }
   ],
   "source": [
    "verified_original.columns"
   ]
  },
  {
   "cell_type": "code",
   "execution_count": 4,
   "metadata": {},
   "outputs": [],
   "source": [
    "verified_original.set_index('id', inplace=True)"
   ]
  },
  {
   "cell_type": "code",
   "execution_count": 167,
   "metadata": {},
   "outputs": [
    {
     "data": {
      "text/plain": [
       "Index(['Id', 'Label', 'timeset', 'listed', 'friends', 'followers', 'user_id',\n",
       "       'language', 'modularity_class'],\n",
       "      dtype='object')"
      ]
     },
     "execution_count": 167,
     "metadata": {},
     "output_type": "execute_result"
    }
   ],
   "source": [
    "nodes.columns"
   ]
  },
  {
   "cell_type": "code",
   "execution_count": 5,
   "metadata": {},
   "outputs": [],
   "source": [
    "combined = nodes.set_index('user_id').join(verified_original[['url', 'location', 'description', 'created_at', 'name']])"
   ]
  },
  {
   "cell_type": "code",
   "execution_count": 169,
   "metadata": {},
   "outputs": [
    {
     "data": {
      "text/plain": [
       "262803"
      ]
     },
     "execution_count": 169,
     "metadata": {},
     "output_type": "execute_result"
    }
   ],
   "source": [
    "len(combined)"
   ]
  },
  {
   "cell_type": "code",
   "execution_count": 170,
   "metadata": {},
   "outputs": [
    {
     "data": {
      "text/plain": [
       "Index(['Id', 'Label', 'timeset', 'listed', 'friends', 'followers', 'language',\n",
       "       'modularity_class', 'url', 'location', 'description'],\n",
       "      dtype='object')"
      ]
     },
     "execution_count": 170,
     "metadata": {},
     "output_type": "execute_result"
    }
   ],
   "source": [
    "combined.columns"
   ]
  },
  {
   "cell_type": "code",
   "execution_count": 6,
   "metadata": {},
   "outputs": [
    {
     "data": {
      "text/html": [
       "<div>\n",
       "<style scoped>\n",
       "    .dataframe tbody tr th:only-of-type {\n",
       "        vertical-align: middle;\n",
       "    }\n",
       "\n",
       "    .dataframe tbody tr th {\n",
       "        vertical-align: top;\n",
       "    }\n",
       "\n",
       "    .dataframe thead th {\n",
       "        text-align: right;\n",
       "    }\n",
       "</style>\n",
       "<table border=\"1\" class=\"dataframe\">\n",
       "  <thead>\n",
       "    <tr style=\"text-align: right;\">\n",
       "      <th></th>\n",
       "      <th>node_id</th>\n",
       "      <th>Label</th>\n",
       "      <th>friends</th>\n",
       "      <th>followers</th>\n",
       "      <th>language</th>\n",
       "      <th>url</th>\n",
       "      <th>location</th>\n",
       "      <th>description</th>\n",
       "      <th>created_at</th>\n",
       "      <th>name</th>\n",
       "    </tr>\n",
       "    <tr>\n",
       "      <th>user_id</th>\n",
       "      <th></th>\n",
       "      <th></th>\n",
       "      <th></th>\n",
       "      <th></th>\n",
       "      <th></th>\n",
       "      <th></th>\n",
       "      <th></th>\n",
       "      <th></th>\n",
       "      <th></th>\n",
       "      <th></th>\n",
       "    </tr>\n",
       "  </thead>\n",
       "  <tbody>\n",
       "    <tr>\n",
       "      <th>15736267</th>\n",
       "      <td>28835</td>\n",
       "      <td>LilianPacce</td>\n",
       "      <td>658</td>\n",
       "      <td>639276</td>\n",
       "      <td>en</td>\n",
       "      <td>http://t.co/v44qPcZZnz</td>\n",
       "      <td>São Paulo</td>\n",
       "      <td>Editora de moda, apresentadora, jornalista e e...</td>\n",
       "      <td>2008-08-05 14:06:35</td>\n",
       "      <td>LilianPacce</td>\n",
       "    </tr>\n",
       "    <tr>\n",
       "      <th>313525999</th>\n",
       "      <td>204136</td>\n",
       "      <td>FenitN</td>\n",
       "      <td>1198</td>\n",
       "      <td>3160</td>\n",
       "      <td>en</td>\n",
       "      <td>https://t.co/c8LNamHxLp</td>\n",
       "      <td>Washington, DC</td>\n",
       "      <td>I cover D.C. government for @WashingtonPost. S...</td>\n",
       "      <td>2011-06-08 19:57:08</td>\n",
       "      <td>Fenit Nirappil</td>\n",
       "    </tr>\n",
       "    <tr>\n",
       "      <th>34177979</th>\n",
       "      <td>249077</td>\n",
       "      <td>eringilfoy</td>\n",
       "      <td>362</td>\n",
       "      <td>78126</td>\n",
       "      <td>en</td>\n",
       "      <td>https://t.co/AvxYBz13qS</td>\n",
       "      <td>Los Angeles, CA</td>\n",
       "      <td>instagram: @eringilfoy snapchat: @erin_gilfoy ...</td>\n",
       "      <td>2009-04-22 04:09:53</td>\n",
       "      <td>erin gilfoy</td>\n",
       "    </tr>\n",
       "    <tr>\n",
       "      <th>1774511</th>\n",
       "      <td>111815</td>\n",
       "      <td>stuartdredge</td>\n",
       "      <td>1295</td>\n",
       "      <td>22945</td>\n",
       "      <td>en</td>\n",
       "      <td>https://t.co/SrR9EhvTO4</td>\n",
       "      <td>Essex</td>\n",
       "      <td>Scribbler: Music Ally / Observer / The Week Ju...</td>\n",
       "      <td>2007-03-21 17:42:25</td>\n",
       "      <td>Stuart Dredge</td>\n",
       "    </tr>\n",
       "    <tr>\n",
       "      <th>17284200</th>\n",
       "      <td>36410</td>\n",
       "      <td>hmvtweets</td>\n",
       "      <td>2115</td>\n",
       "      <td>124810</td>\n",
       "      <td>en</td>\n",
       "      <td>https://t.co/yEAVnZrvqQ</td>\n",
       "      <td>UK</td>\n",
       "      <td>home of entertainment since 1921. Rewards: @pu...</td>\n",
       "      <td>2008-11-10 09:41:22</td>\n",
       "      <td>hmv</td>\n",
       "    </tr>\n",
       "  </tbody>\n",
       "</table>\n",
       "</div>"
      ],
      "text/plain": [
       "           node_id         Label  friends  followers language  \\\n",
       "user_id                                                         \n",
       "15736267     28835   LilianPacce      658     639276       en   \n",
       "313525999   204136        FenitN     1198       3160       en   \n",
       "34177979    249077    eringilfoy      362      78126       en   \n",
       "1774511     111815  stuartdredge     1295      22945       en   \n",
       "17284200     36410     hmvtweets     2115     124810       en   \n",
       "\n",
       "                               url         location  \\\n",
       "user_id                                               \n",
       "15736267    http://t.co/v44qPcZZnz        São Paulo   \n",
       "313525999  https://t.co/c8LNamHxLp   Washington, DC   \n",
       "34177979   https://t.co/AvxYBz13qS  Los Angeles, CA   \n",
       "1774511    https://t.co/SrR9EhvTO4            Essex   \n",
       "17284200   https://t.co/yEAVnZrvqQ               UK   \n",
       "\n",
       "                                                 description  \\\n",
       "user_id                                                        \n",
       "15736267   Editora de moda, apresentadora, jornalista e e...   \n",
       "313525999  I cover D.C. government for @WashingtonPost. S...   \n",
       "34177979   instagram: @eringilfoy snapchat: @erin_gilfoy ...   \n",
       "1774511    Scribbler: Music Ally / Observer / The Week Ju...   \n",
       "17284200   home of entertainment since 1921. Rewards: @pu...   \n",
       "\n",
       "                   created_at            name  \n",
       "user_id                                        \n",
       "15736267  2008-08-05 14:06:35     LilianPacce  \n",
       "313525999 2011-06-08 19:57:08  Fenit Nirappil  \n",
       "34177979  2009-04-22 04:09:53     erin gilfoy  \n",
       "1774511   2007-03-21 17:42:25   Stuart Dredge  \n",
       "17284200  2008-11-10 09:41:22             hmv  "
      ]
     },
     "execution_count": 6,
     "metadata": {},
     "output_type": "execute_result"
    }
   ],
   "source": [
    "combined.rename(columns={'Id': 'node_id'}, inplace=True)\n",
    "combined.drop(columns=['timeset', 'listed', 'modularity_class'], inplace=True)\n",
    "combined.head()"
   ]
  },
  {
   "cell_type": "code",
   "execution_count": 18,
   "metadata": {},
   "outputs": [],
   "source": [
    "df = pd.read_csv('/Users/briansrebrenik/DSCourseMaterials/projects/finalProject/twitterData/tweet_df_final.csv')"
   ]
  },
  {
   "cell_type": "code",
   "execution_count": 32,
   "metadata": {},
   "outputs": [
    {
     "data": {
      "text/plain": [
       "61836077"
      ]
     },
     "execution_count": 32,
     "metadata": {},
     "output_type": "execute_result"
    }
   ],
   "source": [
    "len(df)"
   ]
  },
  {
   "cell_type": "code",
   "execution_count": 23,
   "metadata": {},
   "outputs": [],
   "source": [
    "verified_user_names = list(combined.Label)"
   ]
  },
  {
   "cell_type": "code",
   "execution_count": 25,
   "metadata": {},
   "outputs": [],
   "source": [
    "verified_user_names = set(verified_user_names)"
   ]
  },
  {
   "cell_type": "code",
   "execution_count": 26,
   "metadata": {},
   "outputs": [],
   "source": [
    "authors = df.author"
   ]
  },
  {
   "cell_type": "code",
   "execution_count": 27,
   "metadata": {},
   "outputs": [
    {
     "name": "stderr",
     "output_type": "stream",
     "text": [
      "100%|██████████| 61836077/61836077 [34:29<00:00, 29876.75it/s]  \n"
     ]
    }
   ],
   "source": [
    "from tqdm import tqdm\n",
    "verified_tweets = []\n",
    "for i in tqdm(range(len(authors))):\n",
    "    if authors[i] in verified_user_names:\n",
    "        verified_tweets.append(i)\n",
    "    else:\n",
    "        pass"
   ]
  },
  {
   "cell_type": "code",
   "execution_count": 28,
   "metadata": {},
   "outputs": [],
   "source": [
    "verified_tweet_set = set(verified_tweets)"
   ]
  },
  {
   "cell_type": "code",
   "execution_count": 29,
   "metadata": {},
   "outputs": [
    {
     "data": {
      "text/plain": [
       "1172338"
      ]
     },
     "execution_count": 29,
     "metadata": {},
     "output_type": "execute_result"
    }
   ],
   "source": [
    "len(verified_tweet_set)"
   ]
  },
  {
   "cell_type": "code",
   "execution_count": 31,
   "metadata": {},
   "outputs": [],
   "source": [
    "df.drop(columns=['Unnamed: 0', 'Unnamed: 0.1'], inplace=True)"
   ]
  },
  {
   "cell_type": "code",
   "execution_count": 33,
   "metadata": {},
   "outputs": [
    {
     "name": "stderr",
     "output_type": "stream",
     "text": [
      "100%|██████████| 61836077/61836077 [06:15<00:00, 164578.05it/s] \n"
     ]
    }
   ],
   "source": [
    "new_rows= []\n",
    "for i in tqdm(range(len(df))):\n",
    "    if i in verified_tweet_set:\n",
    "        new_rows.append(df.iloc[i])"
   ]
  },
  {
   "cell_type": "code",
   "execution_count": 34,
   "metadata": {},
   "outputs": [],
   "source": [
    "verified_tweet_df = pd.DataFrame(new_rows)"
   ]
  },
  {
   "cell_type": "code",
   "execution_count": 36,
   "metadata": {},
   "outputs": [
    {
     "data": {
      "text/plain": [
       "1172338"
      ]
     },
     "execution_count": 36,
     "metadata": {},
     "output_type": "execute_result"
    }
   ],
   "source": [
    "len(verified_tweet_df)"
   ]
  },
  {
   "cell_type": "code",
   "execution_count": 37,
   "metadata": {},
   "outputs": [],
   "source": [
    "#verified_tweet_df.to_csv('/Users/briansrebrenik/DSCourseMaterials/projects/finalProject/verified_tweet_df')"
   ]
  },
  {
   "cell_type": "code",
   "execution_count": 38,
   "metadata": {},
   "outputs": [
    {
     "data": {
      "text/html": [
       "<div>\n",
       "<style scoped>\n",
       "    .dataframe tbody tr th:only-of-type {\n",
       "        vertical-align: middle;\n",
       "    }\n",
       "\n",
       "    .dataframe tbody tr th {\n",
       "        vertical-align: top;\n",
       "    }\n",
       "\n",
       "    .dataframe thead th {\n",
       "        text-align: right;\n",
       "    }\n",
       "</style>\n",
       "<table border=\"1\" class=\"dataframe\">\n",
       "  <thead>\n",
       "    <tr style=\"text-align: right;\">\n",
       "      <th></th>\n",
       "      <th>author</th>\n",
       "      <th>date</th>\n",
       "      <th>topic_id</th>\n",
       "      <th>tweet_id</th>\n",
       "    </tr>\n",
       "  </thead>\n",
       "  <tbody>\n",
       "    <tr>\n",
       "      <th>10</th>\n",
       "      <td>SilverbirdTV</td>\n",
       "      <td>2014-10-16 14:39:56</td>\n",
       "      <td>0</td>\n",
       "      <td>522758848529321984</td>\n",
       "    </tr>\n",
       "    <tr>\n",
       "      <th>25</th>\n",
       "      <td>BT_Vancouver</td>\n",
       "      <td>2014-10-16 14:37:38</td>\n",
       "      <td>0</td>\n",
       "      <td>522758268205432832</td>\n",
       "    </tr>\n",
       "    <tr>\n",
       "      <th>31</th>\n",
       "      <td>HelloCanada</td>\n",
       "      <td>2014-10-16 14:37:13</td>\n",
       "      <td>0</td>\n",
       "      <td>522758164400599040</td>\n",
       "    </tr>\n",
       "    <tr>\n",
       "      <th>37</th>\n",
       "      <td>Brimastroianni</td>\n",
       "      <td>2014-10-16 14:36:16</td>\n",
       "      <td>0</td>\n",
       "      <td>522757924234338306</td>\n",
       "    </tr>\n",
       "    <tr>\n",
       "      <th>46</th>\n",
       "      <td>NiraArora</td>\n",
       "      <td>2014-10-16 14:34:33</td>\n",
       "      <td>0</td>\n",
       "      <td>522757491743285248</td>\n",
       "    </tr>\n",
       "  </tbody>\n",
       "</table>\n",
       "</div>"
      ],
      "text/plain": [
       "            author                 date  topic_id            tweet_id\n",
       "10    SilverbirdTV  2014-10-16 14:39:56         0  522758848529321984\n",
       "25    BT_Vancouver  2014-10-16 14:37:38         0  522758268205432832\n",
       "31     HelloCanada  2014-10-16 14:37:13         0  522758164400599040\n",
       "37  Brimastroianni  2014-10-16 14:36:16         0  522757924234338306\n",
       "46       NiraArora  2014-10-16 14:34:33         0  522757491743285248"
      ]
     },
     "execution_count": 38,
     "metadata": {},
     "output_type": "execute_result"
    }
   ],
   "source": [
    "verified_tweet_df.head()"
   ]
  },
  {
   "cell_type": "code",
   "execution_count": 2,
   "metadata": {},
   "outputs": [],
   "source": [
    "df = pd.read_csv('verified_tweet_df')"
   ]
  },
  {
   "cell_type": "code",
   "execution_count": 24,
   "metadata": {
    "scrolled": true
   },
   "outputs": [
    {
     "data": {
      "text/html": [
       "<div>\n",
       "<style scoped>\n",
       "    .dataframe tbody tr th:only-of-type {\n",
       "        vertical-align: middle;\n",
       "    }\n",
       "\n",
       "    .dataframe tbody tr th {\n",
       "        vertical-align: top;\n",
       "    }\n",
       "\n",
       "    .dataframe thead th {\n",
       "        text-align: right;\n",
       "    }\n",
       "</style>\n",
       "<table border=\"1\" class=\"dataframe\">\n",
       "  <thead>\n",
       "    <tr style=\"text-align: right;\">\n",
       "      <th></th>\n",
       "      <th>date</th>\n",
       "      <th>topic_id</th>\n",
       "      <th>tweet_id</th>\n",
       "    </tr>\n",
       "    <tr>\n",
       "      <th>author</th>\n",
       "      <th></th>\n",
       "      <th></th>\n",
       "      <th></th>\n",
       "    </tr>\n",
       "  </thead>\n",
       "  <tbody>\n",
       "    <tr>\n",
       "      <th>SilverbirdTV</th>\n",
       "      <td>2014-10-16 14:39:56</td>\n",
       "      <td>0</td>\n",
       "      <td>522758848529321984</td>\n",
       "    </tr>\n",
       "    <tr>\n",
       "      <th>BT_Vancouver</th>\n",
       "      <td>2014-10-16 14:37:38</td>\n",
       "      <td>0</td>\n",
       "      <td>522758268205432832</td>\n",
       "    </tr>\n",
       "    <tr>\n",
       "      <th>HelloCanada</th>\n",
       "      <td>2014-10-16 14:37:13</td>\n",
       "      <td>0</td>\n",
       "      <td>522758164400599040</td>\n",
       "    </tr>\n",
       "    <tr>\n",
       "      <th>Brimastroianni</th>\n",
       "      <td>2014-10-16 14:36:16</td>\n",
       "      <td>0</td>\n",
       "      <td>522757924234338306</td>\n",
       "    </tr>\n",
       "    <tr>\n",
       "      <th>NiraArora</th>\n",
       "      <td>2014-10-16 14:34:33</td>\n",
       "      <td>0</td>\n",
       "      <td>522757491743285248</td>\n",
       "    </tr>\n",
       "  </tbody>\n",
       "</table>\n",
       "</div>"
      ],
      "text/plain": [
       "                               date  topic_id            tweet_id\n",
       "author                                                           \n",
       "SilverbirdTV    2014-10-16 14:39:56         0  522758848529321984\n",
       "BT_Vancouver    2014-10-16 14:37:38         0  522758268205432832\n",
       "HelloCanada     2014-10-16 14:37:13         0  522758164400599040\n",
       "Brimastroianni  2014-10-16 14:36:16         0  522757924234338306\n",
       "NiraArora       2014-10-16 14:34:33         0  522757491743285248"
      ]
     },
     "execution_count": 24,
     "metadata": {},
     "output_type": "execute_result"
    }
   ],
   "source": [
    "df.drop(columns='Unnamed: 0', inplace=True)\n",
    "df.set_index('author', inplace=True)\n",
    "df.head()"
   ]
  },
  {
   "cell_type": "code",
   "execution_count": 45,
   "metadata": {},
   "outputs": [],
   "source": [
    "engine = sqlalchemy.create_engine('sqlite:///tweetdatabase.db')\n",
    "conn = engine.connect()"
   ]
  },
  {
   "cell_type": "code",
   "execution_count": 46,
   "metadata": {},
   "outputs": [],
   "source": [
    "score_table = pd.read_sql_table('events', conn)"
   ]
  },
  {
   "cell_type": "code",
   "execution_count": 48,
   "metadata": {
    "scrolled": false
   },
   "outputs": [
    {
     "data": {
      "text/html": [
       "<div>\n",
       "<style scoped>\n",
       "    .dataframe tbody tr th:only-of-type {\n",
       "        vertical-align: middle;\n",
       "    }\n",
       "\n",
       "    .dataframe tbody tr th {\n",
       "        vertical-align: top;\n",
       "    }\n",
       "\n",
       "    .dataframe thead th {\n",
       "        text-align: right;\n",
       "    }\n",
       "</style>\n",
       "<table border=\"1\" class=\"dataframe\">\n",
       "  <thead>\n",
       "    <tr style=\"text-align: right;\">\n",
       "      <th></th>\n",
       "      <th>id</th>\n",
       "      <th>topic_terms</th>\n",
       "      <th>tweet_count</th>\n",
       "      <th>avg_score</th>\n",
       "    </tr>\n",
       "  </thead>\n",
       "  <tbody>\n",
       "    <tr>\n",
       "      <th>0</th>\n",
       "      <td>0</td>\n",
       "      <td>host,patrick,neil</td>\n",
       "      <td>34694</td>\n",
       "      <td>2.000000</td>\n",
       "    </tr>\n",
       "    <tr>\n",
       "      <th>1</th>\n",
       "      <td>1</td>\n",
       "      <td>royals,game,series</td>\n",
       "      <td>22111</td>\n",
       "      <td>1.833333</td>\n",
       "    </tr>\n",
       "    <tr>\n",
       "      <th>2</th>\n",
       "      <td>2</td>\n",
       "      <td>giants,game,win</td>\n",
       "      <td>9990</td>\n",
       "      <td>1.900000</td>\n",
       "    </tr>\n",
       "    <tr>\n",
       "      <th>3</th>\n",
       "      <td>3</td>\n",
       "      <td>october,ebola,house</td>\n",
       "      <td>147</td>\n",
       "      <td>1.066667</td>\n",
       "    </tr>\n",
       "    <tr>\n",
       "      <th>4</th>\n",
       "      <td>4</td>\n",
       "      <td>ebola,white,health</td>\n",
       "      <td>2956</td>\n",
       "      <td>1.633333</td>\n",
       "    </tr>\n",
       "  </tbody>\n",
       "</table>\n",
       "</div>"
      ],
      "text/plain": [
       "   id          topic_terms  tweet_count  avg_score\n",
       "0   0    host,patrick,neil        34694   2.000000\n",
       "1   1   royals,game,series        22111   1.833333\n",
       "2   2      giants,game,win         9990   1.900000\n",
       "3   3  october,ebola,house          147   1.066667\n",
       "4   4   ebola,white,health         2956   1.633333"
      ]
     },
     "execution_count": 48,
     "metadata": {},
     "output_type": "execute_result"
    }
   ],
   "source": [
    "score_table.head()"
   ]
  },
  {
   "cell_type": "code",
   "execution_count": 69,
   "metadata": {},
   "outputs": [],
   "source": [
    "df_with_scores = df.reset_index().set_index('topic_id').join(score_table[['avg_score']])"
   ]
  },
  {
   "cell_type": "code",
   "execution_count": 70,
   "metadata": {},
   "outputs": [],
   "source": [
    "df_with_scores.reset_index(inplace=True)\n"
   ]
  },
  {
   "cell_type": "code",
   "execution_count": 184,
   "metadata": {},
   "outputs": [],
   "source": [
    "df_with_scores.rename(columns={'author': \"user\"}, inplace=True)"
   ]
  },
  {
   "cell_type": "code",
   "execution_count": 191,
   "metadata": {},
   "outputs": [
    {
     "data": {
      "text/html": [
       "<div>\n",
       "<style scoped>\n",
       "    .dataframe tbody tr th:only-of-type {\n",
       "        vertical-align: middle;\n",
       "    }\n",
       "\n",
       "    .dataframe tbody tr th {\n",
       "        vertical-align: top;\n",
       "    }\n",
       "\n",
       "    .dataframe thead th {\n",
       "        text-align: right;\n",
       "    }\n",
       "</style>\n",
       "<table border=\"1\" class=\"dataframe\">\n",
       "  <thead>\n",
       "    <tr style=\"text-align: right;\">\n",
       "      <th></th>\n",
       "      <th>topic_id</th>\n",
       "      <th>user</th>\n",
       "      <th>date</th>\n",
       "      <th>avg_score</th>\n",
       "    </tr>\n",
       "    <tr>\n",
       "      <th>tweet_id</th>\n",
       "      <th></th>\n",
       "      <th></th>\n",
       "      <th></th>\n",
       "      <th></th>\n",
       "    </tr>\n",
       "  </thead>\n",
       "  <tbody>\n",
       "    <tr>\n",
       "      <th>522758848529321984</th>\n",
       "      <td>0</td>\n",
       "      <td>SilverbirdTV</td>\n",
       "      <td>2014-10-16 14:39:56</td>\n",
       "      <td>2.0</td>\n",
       "    </tr>\n",
       "    <tr>\n",
       "      <th>522758268205432832</th>\n",
       "      <td>0</td>\n",
       "      <td>BT_Vancouver</td>\n",
       "      <td>2014-10-16 14:37:38</td>\n",
       "      <td>2.0</td>\n",
       "    </tr>\n",
       "    <tr>\n",
       "      <th>522758164400599040</th>\n",
       "      <td>0</td>\n",
       "      <td>HelloCanada</td>\n",
       "      <td>2014-10-16 14:37:13</td>\n",
       "      <td>2.0</td>\n",
       "    </tr>\n",
       "    <tr>\n",
       "      <th>522757924234338306</th>\n",
       "      <td>0</td>\n",
       "      <td>Brimastroianni</td>\n",
       "      <td>2014-10-16 14:36:16</td>\n",
       "      <td>2.0</td>\n",
       "    </tr>\n",
       "    <tr>\n",
       "      <th>522757491743285248</th>\n",
       "      <td>0</td>\n",
       "      <td>NiraArora</td>\n",
       "      <td>2014-10-16 14:34:33</td>\n",
       "      <td>2.0</td>\n",
       "    </tr>\n",
       "  </tbody>\n",
       "</table>\n",
       "</div>"
      ],
      "text/plain": [
       "                    topic_id            user                 date  avg_score\n",
       "tweet_id                                                                    \n",
       "522758848529321984         0    SilverbirdTV  2014-10-16 14:39:56        2.0\n",
       "522758268205432832         0    BT_Vancouver  2014-10-16 14:37:38        2.0\n",
       "522758164400599040         0     HelloCanada  2014-10-16 14:37:13        2.0\n",
       "522757924234338306         0  Brimastroianni  2014-10-16 14:36:16        2.0\n",
       "522757491743285248         0       NiraArora  2014-10-16 14:34:33        2.0"
      ]
     },
     "execution_count": 191,
     "metadata": {},
     "output_type": "execute_result"
    }
   ],
   "source": [
    "df_with_scores.set_index('tweet_id', inplace=True)\n",
    "df_with_scores.head()"
   ]
  },
  {
   "cell_type": "code",
   "execution_count": 7,
   "metadata": {},
   "outputs": [],
   "source": [
    "combined.rename(columns={'Label' : 'user'}, inplace=True)"
   ]
  },
  {
   "cell_type": "code",
   "execution_count": 8,
   "metadata": {},
   "outputs": [
    {
     "data": {
      "text/html": [
       "<div>\n",
       "<style scoped>\n",
       "    .dataframe tbody tr th:only-of-type {\n",
       "        vertical-align: middle;\n",
       "    }\n",
       "\n",
       "    .dataframe tbody tr th {\n",
       "        vertical-align: top;\n",
       "    }\n",
       "\n",
       "    .dataframe thead th {\n",
       "        text-align: right;\n",
       "    }\n",
       "</style>\n",
       "<table border=\"1\" class=\"dataframe\">\n",
       "  <thead>\n",
       "    <tr style=\"text-align: right;\">\n",
       "      <th></th>\n",
       "      <th>user_id</th>\n",
       "      <th>node_id</th>\n",
       "      <th>friends</th>\n",
       "      <th>followers</th>\n",
       "      <th>language</th>\n",
       "      <th>url</th>\n",
       "      <th>location</th>\n",
       "      <th>description</th>\n",
       "      <th>created_at</th>\n",
       "      <th>name</th>\n",
       "    </tr>\n",
       "    <tr>\n",
       "      <th>user</th>\n",
       "      <th></th>\n",
       "      <th></th>\n",
       "      <th></th>\n",
       "      <th></th>\n",
       "      <th></th>\n",
       "      <th></th>\n",
       "      <th></th>\n",
       "      <th></th>\n",
       "      <th></th>\n",
       "      <th></th>\n",
       "    </tr>\n",
       "  </thead>\n",
       "  <tbody>\n",
       "    <tr>\n",
       "      <th>LilianPacce</th>\n",
       "      <td>15736267</td>\n",
       "      <td>28835</td>\n",
       "      <td>658</td>\n",
       "      <td>639276</td>\n",
       "      <td>en</td>\n",
       "      <td>http://t.co/v44qPcZZnz</td>\n",
       "      <td>São Paulo</td>\n",
       "      <td>Editora de moda, apresentadora, jornalista e e...</td>\n",
       "      <td>2008-08-05 14:06:35</td>\n",
       "      <td>LilianPacce</td>\n",
       "    </tr>\n",
       "    <tr>\n",
       "      <th>FenitN</th>\n",
       "      <td>313525999</td>\n",
       "      <td>204136</td>\n",
       "      <td>1198</td>\n",
       "      <td>3160</td>\n",
       "      <td>en</td>\n",
       "      <td>https://t.co/c8LNamHxLp</td>\n",
       "      <td>Washington, DC</td>\n",
       "      <td>I cover D.C. government for @WashingtonPost. S...</td>\n",
       "      <td>2011-06-08 19:57:08</td>\n",
       "      <td>Fenit Nirappil</td>\n",
       "    </tr>\n",
       "    <tr>\n",
       "      <th>eringilfoy</th>\n",
       "      <td>34177979</td>\n",
       "      <td>249077</td>\n",
       "      <td>362</td>\n",
       "      <td>78126</td>\n",
       "      <td>en</td>\n",
       "      <td>https://t.co/AvxYBz13qS</td>\n",
       "      <td>Los Angeles, CA</td>\n",
       "      <td>instagram: @eringilfoy snapchat: @erin_gilfoy ...</td>\n",
       "      <td>2009-04-22 04:09:53</td>\n",
       "      <td>erin gilfoy</td>\n",
       "    </tr>\n",
       "    <tr>\n",
       "      <th>stuartdredge</th>\n",
       "      <td>1774511</td>\n",
       "      <td>111815</td>\n",
       "      <td>1295</td>\n",
       "      <td>22945</td>\n",
       "      <td>en</td>\n",
       "      <td>https://t.co/SrR9EhvTO4</td>\n",
       "      <td>Essex</td>\n",
       "      <td>Scribbler: Music Ally / Observer / The Week Ju...</td>\n",
       "      <td>2007-03-21 17:42:25</td>\n",
       "      <td>Stuart Dredge</td>\n",
       "    </tr>\n",
       "    <tr>\n",
       "      <th>hmvtweets</th>\n",
       "      <td>17284200</td>\n",
       "      <td>36410</td>\n",
       "      <td>2115</td>\n",
       "      <td>124810</td>\n",
       "      <td>en</td>\n",
       "      <td>https://t.co/yEAVnZrvqQ</td>\n",
       "      <td>UK</td>\n",
       "      <td>home of entertainment since 1921. Rewards: @pu...</td>\n",
       "      <td>2008-11-10 09:41:22</td>\n",
       "      <td>hmv</td>\n",
       "    </tr>\n",
       "  </tbody>\n",
       "</table>\n",
       "</div>"
      ],
      "text/plain": [
       "                user_id  node_id  friends  followers language  \\\n",
       "user                                                            \n",
       "LilianPacce    15736267    28835      658     639276       en   \n",
       "FenitN        313525999   204136     1198       3160       en   \n",
       "eringilfoy     34177979   249077      362      78126       en   \n",
       "stuartdredge    1774511   111815     1295      22945       en   \n",
       "hmvtweets      17284200    36410     2115     124810       en   \n",
       "\n",
       "                                  url         location  \\\n",
       "user                                                     \n",
       "LilianPacce    http://t.co/v44qPcZZnz        São Paulo   \n",
       "FenitN        https://t.co/c8LNamHxLp   Washington, DC   \n",
       "eringilfoy    https://t.co/AvxYBz13qS  Los Angeles, CA   \n",
       "stuartdredge  https://t.co/SrR9EhvTO4            Essex   \n",
       "hmvtweets     https://t.co/yEAVnZrvqQ               UK   \n",
       "\n",
       "                                                    description  \\\n",
       "user                                                              \n",
       "LilianPacce   Editora de moda, apresentadora, jornalista e e...   \n",
       "FenitN        I cover D.C. government for @WashingtonPost. S...   \n",
       "eringilfoy    instagram: @eringilfoy snapchat: @erin_gilfoy ...   \n",
       "stuartdredge  Scribbler: Music Ally / Observer / The Week Ju...   \n",
       "hmvtweets     home of entertainment since 1921. Rewards: @pu...   \n",
       "\n",
       "                      created_at            name  \n",
       "user                                              \n",
       "LilianPacce  2008-08-05 14:06:35     LilianPacce  \n",
       "FenitN       2011-06-08 19:57:08  Fenit Nirappil  \n",
       "eringilfoy   2009-04-22 04:09:53     erin gilfoy  \n",
       "stuartdredge 2007-03-21 17:42:25   Stuart Dredge  \n",
       "hmvtweets    2008-11-10 09:41:22             hmv  "
      ]
     },
     "execution_count": 8,
     "metadata": {},
     "output_type": "execute_result"
    }
   ],
   "source": [
    "combined.reset_index(inplace=True)\n",
    "combined.set_index('user', inplace=True)\n",
    "combined.head()"
   ]
  },
  {
   "cell_type": "code",
   "execution_count": 9,
   "metadata": {},
   "outputs": [],
   "source": [
    "conn = sqlite3.connect('tweetdatabase.db')\n",
    "c = conn.cursor()"
   ]
  },
  {
   "cell_type": "code",
   "execution_count": 195,
   "metadata": {},
   "outputs": [],
   "source": [
    "df_with_scores.to_sql('verified_tweets', conn)"
   ]
  },
  {
   "cell_type": "code",
   "execution_count": 10,
   "metadata": {},
   "outputs": [],
   "source": [
    "combined.to_sql('verified_users', conn, if_exists='replace')"
   ]
  },
  {
   "cell_type": "code",
   "execution_count": null,
   "metadata": {},
   "outputs": [],
   "source": []
  }
 ],
 "metadata": {
  "kernelspec": {
   "display_name": "Python 3",
   "language": "python",
   "name": "python3"
  },
  "language_info": {
   "codemirror_mode": {
    "name": "ipython",
    "version": 3
   },
   "file_extension": ".py",
   "mimetype": "text/x-python",
   "name": "python",
   "nbconvert_exporter": "python",
   "pygments_lexer": "ipython3",
   "version": "3.7.1"
  }
 },
 "nbformat": 4,
 "nbformat_minor": 2
}
